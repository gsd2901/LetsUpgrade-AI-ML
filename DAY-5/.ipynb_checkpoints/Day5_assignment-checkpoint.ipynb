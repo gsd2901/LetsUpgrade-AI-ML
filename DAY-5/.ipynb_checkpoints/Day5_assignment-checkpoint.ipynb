{
 "cells": [
  {
   "cell_type": "markdown",
   "metadata": {},
   "source": [
    "Question 1 :<br/>Write a Python program to find the first 20 non-even prime natural numbers"
   ]
  },
  {
   "cell_type": "code",
   "execution_count": 2,
   "metadata": {},
   "outputs": [
    {
     "name": "stdout",
     "output_type": "stream",
     "text": [
      "non-even prime numbers are \n",
      "3 5 7 11 13 17 19 23 29 31 37 41 43 47 53 59 61 67 71 73 "
     ]
    }
   ],
   "source": [
    "n = 20\n",
    "p = [2]\n",
    "c = 2\n",
    "\n",
    "while len(p) < n+1:\n",
    "    j = 0\n",
    "    c += 1\n",
    "    while j < len(p):\n",
    "        if c % p[j] == 0:\n",
    "            break\n",
    "        elif j == len(p) - 1:\n",
    "            p.append(c)\n",
    "        j += 1\n",
    "print(\"non-even prime numbers are \")\n",
    "for i in p[1::]:\n",
    "    print(i,end=\" \")"
   ]
  },
  {
   "cell_type": "markdown",
   "metadata": {},
   "source": [
    "Question 2 :<br/>Write a Python program to implement 15 functions of string."
   ]
  },
  {
   "cell_type": "code",
   "execution_count": 14,
   "metadata": {},
   "outputs": [
    {
     "name": "stdout",
     "output_type": "stream",
     "text": [
      "capitalise Python\n",
      "casefold  python\n",
      "alnum True\n",
      "ascii True\n",
      "endswith  True\n",
      "lower False\n",
      "upper False\n",
      "space False\n",
      "strip Python\n",
      "split ['Python']\n",
      "expandtabs Python\n",
      "format Python\n",
      "title True\n",
      "join iPythons\n",
      "printable True\n"
     ]
    }
   ],
   "source": [
    "s=\"Python\"\n",
    "print(\"capitalise\",s.capitalize())\n",
    "print(\"casefold \",s.casefold())\n",
    "print(\"alnum\",s.isalnum())\n",
    "print(\"ascii\",s.isascii())\n",
    "print(\"endswith \",s.endswith(\"n\"))\n",
    "print(\"lower\",s.islower())\n",
    "print(\"upper\",s.isupper())\n",
    "print(\"space\",s.isspace())\n",
    "print(\"strip\",s.strip())\n",
    "print(\"split\",s.split())\n",
    "print(\"expandtabs\",s.expandtabs())\n",
    "print(\"format\",s.format())\n",
    "print(\"title\",s.istitle())\n",
    "print(\"join\",s.join(\"is\"))\n",
    "print(\"printable\",s.isprintable())"
   ]
  },
  {
   "cell_type": "markdown",
   "metadata": {},
   "source": [
    "Question 3:<br/>Write a Python program to check if the given string is a Palindrome or Anagram or None of them.Display the message accordingly to the user."
   ]
  },
  {
   "cell_type": "code",
   "execution_count": 2,
   "metadata": {},
   "outputs": [
    {
     "name": "stdout",
     "output_type": "stream",
     "text": [
      "Enter a first string:aIbohPhoBiA\n",
      "The string is a palindrome\n"
     ]
    }
   ],
   "source": [
    "S1=input((\"Enter a first string:\"))\n",
    "if((S1.lower()) == (S1[::-1].lower())):\n",
    "      print(\"The string is a palindrome\")\n",
    "else:\n",
    "    S2=input((\"Enter a second string:\"))\n",
    "    if(S2==S2[::-1]):\n",
    "        print(\"The string is a palindrome\")\n",
    "    elif(sorted(S1.lower())==sorted(S2.lower())):\n",
    "        print(\"S1 and S2 are anagrams\",S1,S2)\n",
    "    else:\n",
    "        print(\"Given string is not a palindrome or anagrams\")"
   ]
  },
  {
   "cell_type": "markdown",
   "metadata": {},
   "source": [
    "Question 4:<br/>Write a Python's user defined function that removes all the additional characters from the stringand converts it finally to lower case using built-in lower(). eg: If the string is \"Dr. Darshan Ingle@AI-ML Trainer\", then the output be \"drdarshaningleaimltrainer\"."
   ]
  },
  {
   "cell_type": "code",
   "execution_count": 4,
   "metadata": {},
   "outputs": [
    {
     "name": "stdout",
     "output_type": "stream",
     "text": [
      "Enter a first string:Dr. Darshan Ingle@AI-ML Trainer\n",
      "drdarshaningleaimltrainer\n"
     ]
    }
   ],
   "source": [
    "def filter_string(string):\n",
    "        \n",
    "    return(list([val for val in string.lower()\n",
    "               if val.isalpha()]))\n",
    "\n",
    "#main program    \n",
    "S=input((\"Enter a first string:\"))\n",
    "\n",
    "print(\"\".join(filter_string(S)))"
   ]
  },
  {
   "cell_type": "code",
   "execution_count": null,
   "metadata": {},
   "outputs": [],
   "source": []
  }
 ],
 "metadata": {
  "kernelspec": {
   "display_name": "Python 3",
   "language": "python",
   "name": "python3"
  }
 },
 "nbformat": 4,
 "nbformat_minor": 2
}
