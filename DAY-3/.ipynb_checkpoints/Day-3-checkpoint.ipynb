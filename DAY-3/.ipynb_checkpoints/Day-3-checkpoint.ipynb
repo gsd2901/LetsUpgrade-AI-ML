{
 "cells": [
  {
   "cell_type": "markdown",
   "metadata": {},
   "source": [
    "Question 1 :<br /> \n",
    "Write a program to subtract two complex numbers in Python.\n"
   ]
  },
  {
   "cell_type": "code",
   "execution_count": 1,
   "metadata": {},
   "outputs": [
    {
     "name": "stdout",
     "output_type": "stream",
     "text": [
      "(2+1j)\n"
     ]
    }
   ],
   "source": [
    "comp1=complex(4,2)\n",
    "comp2=complex(2,1)\n",
    "print(comp1-comp2)"
   ]
  },
  {
   "cell_type": "markdown",
   "metadata": {},
   "source": [
    "Question 2 :<br/>\n",
    "Write a program to find the fourth root of a number."
   ]
  },
  {
   "cell_type": "code",
   "execution_count": 3,
   "metadata": {},
   "outputs": [
    {
     "name": "stdout",
     "output_type": "stream",
     "text": [
      "625\n",
      "5.0\n"
     ]
    }
   ],
   "source": [
    "num=int(input())\n",
    "print(num**(0.25))"
   ]
  },
  {
   "cell_type": "markdown",
   "metadata": {},
   "source": [
    "Question 3:<br/>\n",
    "Write a program to swap two numbers in Python with the help of a temporary variable"
   ]
  },
  {
   "cell_type": "code",
   "execution_count": 5,
   "metadata": {},
   "outputs": [
    {
     "name": "stdout",
     "output_type": "stream",
     "text": [
      "2\n",
      "3\n",
      "num1 is  2 num2 is  3\n",
      "num1 is  3 num2 is  2\n"
     ]
    }
   ],
   "source": [
    "num1=int(input())\n",
    "num2=int(input())\n",
    "print(\"num1 is \",num1,\"num2 is \",num2)\n",
    "temp=num1\n",
    "num1=num2\n",
    "num2=temp\n",
    "print(\"num1 is \",num1,\"num2 is \",num2)"
   ]
  },
  {
   "cell_type": "markdown",
   "metadata": {},
   "source": [
    "Question 4:<br/>\n",
    "Write a program to swap two numbers in Python without using a temporary variable."
   ]
  },
  {
   "cell_type": "code",
   "execution_count": 6,
   "metadata": {},
   "outputs": [
    {
     "name": "stdout",
     "output_type": "stream",
     "text": [
      "2\n",
      "3\n",
      "num1 is  2 num2 is  3\n",
      "num1 is  3 num2 is  2\n"
     ]
    }
   ],
   "source": [
    "num1=int(input())\n",
    "num2=int(input())\n",
    "print(\"num1 is \",num1,\"num2 is \",num2)\n",
    "num1=num1+num2\n",
    "num2=num1-num2\n",
    "num1=num1-num2\n",
    "print(\"num1 is \",num1,\"num2 is \",num2)"
   ]
  },
  {
   "cell_type": "markdown",
   "metadata": {},
   "source": [
    "Question 5:<br/>Write a program to convert fahrenheit to kelvin and celsius both"
   ]
  },
  {
   "cell_type": "code",
   "execution_count": 7,
   "metadata": {},
   "outputs": [
    {
     "name": "stdout",
     "output_type": "stream",
     "text": [
      "100\n",
      "311.27777777777777\n"
     ]
    }
   ],
   "source": [
    "fahrenheit = int(input())\n",
    "print(273.5 + ((fahrenheit - 32.0) * (5.0/9.0)))"
   ]
  },
  {
   "cell_type": "markdown",
   "metadata": {},
   "source": [
    "Question 6: <br/>Write a program to demonstrate all the available data types in Python. Hint: Use type() function."
   ]
  },
  {
   "cell_type": "code",
   "execution_count": 14,
   "metadata": {},
   "outputs": [
    {
     "name": "stdout",
     "output_type": "stream",
     "text": [
      "Type of a:  <class 'int'>\n",
      "Type of b:  <class 'float'>\n",
      "Type of c:  <class 'complex'>\n",
      "Type of a:  <class 'list'>\n",
      "Type of t:  <class 'tuple'>\n",
      "Type of s:  <class 'str'>\n",
      "Type of a:  <class 'set'>\n",
      "Type of a:  <class 'dict'>\n"
     ]
    }
   ],
   "source": [
    "a = 5\n",
    "print(\"Type of a: \", type(a))   \n",
    "b = 5.0\n",
    "print(\"Type of b: \", type(b))   \n",
    "c = 2 + 4j\n",
    "print(\"Type of c: \", type(c)) \n",
    "a = [1, 2.2, 'python']\n",
    "print(\"Type of a: \", type(a)) \n",
    "t = (5,'program', 1+3j)\n",
    "print(\"Type of t: \", type(t)) \n",
    "s = \"This is a string\"\n",
    "print(\"Type of s: \", type(s)) \n",
    "a = {5,2,3,1,4}\n",
    "print(\"Type of a: \", type(a)) \n",
    "d = {1:'value','key':2}\n",
    "print(\"Type of a: \", type(d)) "
   ]
  },
  {
   "cell_type": "markdown",
   "metadata": {},
   "source": [
    "Question 7:<br/>Create a Markdown cell in jupyter and list the steps discussed in the session by Dr. DarshanIngle sir to create Github profile and upload Githubs Assignment link."
   ]
  },
  {
   "cell_type": "markdown",
   "metadata": {},
   "source": [
    "How to submit Assignments?\n",
    "\n",
    "1) Create a Github public repo and name it LetsUpgrade AI/ML <br/>\n",
    "2) Upload the files/solution in the repo in day wise manner.  <br/>\n",
    "3) Copy the URL of the Folder of that day and paste in the Assignment Submission Form (Google Form) w <br/>\n",
    "4) Make sure you are filling correct details in the Assignment Submission Form. <br/>\n",
    "5) All the drop-downs will be available till the week end only. i.e Previous weeks drop-down will disappear on each Sunday 11:59 PM<br/>\n",
    "6) You have to submit all the assignment given during the weekdays by respective SUNDAY 11:59 PM  IST.<br/>\n",
    "7) All the drop-downs will be available till the week end only. i.e Previous weeks drop-down will disappear on each Sunday 11:59 PM<br/>"
   ]
  },
  {
   "cell_type": "code",
   "execution_count": null,
   "metadata": {},
   "outputs": [],
   "source": []
  }
 ],
 "metadata": {
  "kernelspec": {
   "display_name": "Python 3",
   "language": "python",
   "name": "python3"
  },
  "language_info": {
   "codemirror_mode": {
    "name": "ipython",
    "version": 3
   },
   "file_extension": ".py",
   "mimetype": "text/x-python",
   "name": "python",
   "nbconvert_exporter": "python",
   "pygments_lexer": "ipython3",
   "version": "3.7.4"
  }
 },
 "nbformat": 4,
 "nbformat_minor": 2
}
