{
 "cells": [
  {
   "cell_type": "markdown",
   "metadata": {},
   "source": [
    "# Project 4 - Twitter Sentiment Analysis"
   ]
  },
  {
   "cell_type": "markdown",
   "metadata": {},
   "source": [
    "#### 1. First we collect the text data using the Twitter-API\n",
    "#### 2. So we will require few packages as follows:"
   ]
  },
  {
   "cell_type": "code",
   "execution_count": 77,
   "metadata": {},
   "outputs": [],
   "source": [
    "import numpy  as np\n",
    "import pandas as pd\n",
    "import tweepy\n",
    "import json\n",
    "from tweepy import OAuthHandler"
   ]
  },
  {
   "cell_type": "code",
   "execution_count": 78,
   "metadata": {},
   "outputs": [],
   "source": [
    "# Confidential API keys\n",
    "\n",
    "consumer_key        = \"CONFIDENTIAL_KEY\"\n",
    "consumer_secret     = \"CONFIDENTIAL_KEY\"\n",
    "access_token        = \"CONFIDENTIAL_KEY\"\n",
    "access_token_secret = \"CONFIDENTIAL_KEY\""
   ]
  },
  {
   "cell_type": "code",
   "execution_count": 79,
   "metadata": {},
   "outputs": [],
   "source": [
    "# calling the API\n",
    "\n",
    "auth = OAuthHandler(consumer_key, consumer_secret)\n",
    "auth.set_access_token(access_token, access_token_secret)\n",
    "api = tweepy.API(auth)"
   ]
  },
  {
   "cell_type": "code",
   "execution_count": 80,
   "metadata": {},
   "outputs": [],
   "source": [
    "# getting the data from twitter using the API\n",
    "\n",
    "query = \"farmer protest in delhi\""
   ]
  },
  {
   "cell_type": "code",
   "execution_count": 81,
   "metadata": {},
   "outputs": [
    {
     "name": "stdout",
     "output_type": "stream",
     "text": [
      "Output containing long set of strings, omitted from display \n",
      "----------------------------------------------------\n",
      "\n"
     ]
    }
   ],
   "source": [
    "Tweets = api.search(query, count=10, lang='en', exclude='retweets', tweet_mode='extended')\n",
    "\n",
    "for tweet in Tweets:\n",
    "    print(tweet,\"\\n----------------------------------------------------\\n\\n\")"
   ]
  },
  {
   "cell_type": "code",
   "execution_count": 91,
   "metadata": {},
   "outputs": [
    {
     "data": {
      "text/html": [
       "<div>\n",
       "<style scoped>\n",
       "    .dataframe tbody tr th:only-of-type {\n",
       "        vertical-align: middle;\n",
       "    }\n",
       "\n",
       "    .dataframe tbody tr th {\n",
       "        vertical-align: top;\n",
       "    }\n",
       "\n",
       "    .dataframe thead th {\n",
       "        text-align: right;\n",
       "    }\n",
       "</style>\n",
       "<table border=\"1\" class=\"dataframe\">\n",
       "  <thead>\n",
       "    <tr style=\"text-align: right;\">\n",
       "      <th></th>\n",
       "      <th>Tweets</th>\n",
       "      <th>User</th>\n",
       "      <th>User_statuses_count</th>\n",
       "      <th>user_followers</th>\n",
       "      <th>User_location</th>\n",
       "      <th>User_verified</th>\n",
       "      <th>fav_count</th>\n",
       "      <th>rt_count</th>\n",
       "      <th>tweet_date</th>\n",
       "    </tr>\n",
       "  </thead>\n",
       "  <tbody>\n",
       "  </tbody>\n",
       "</table>\n",
       "</div>"
      ],
      "text/plain": [
       "Empty DataFrame\n",
       "Columns: [Tweets, User, User_statuses_count, user_followers, User_location, User_verified, fav_count, rt_count, tweet_date]\n",
       "Index: []"
      ]
     },
     "execution_count": 91,
     "metadata": {},
     "output_type": "execute_result"
    }
   ],
   "source": [
    "# Creating a strutured dataframe to store the dataset\n",
    "\n",
    "df = pd.DataFrame(columns=['Tweets', 'User', 'User_statuses_count', 'user_followers', 'User_location', 'User_verified', 'fav_count', 'rt_count', 'tweet_date'])\n",
    "df"
   ]
  },
  {
   "cell_type": "code",
   "execution_count": 92,
   "metadata": {},
   "outputs": [],
   "source": [
    "# function to create a dataset file \n",
    "\n",
    "# to exclude retweets and include extended tweet msgs refer: https://vinaysit.com/2019/02/28/tweepy-twitter-of-python/\n",
    "\n",
    "def stream(data, file_name):\n",
    "    i=0\n",
    "    for tweet in tweepy.Cursor(api.search, q=data+' -filter:retweets', count=100, lang='en', tweet_mode='extended').items():\n",
    "        print(i, end='\\r')\n",
    "        df.loc[i, 'Tweets']              = tweet.full_text\n",
    "        df.loc[i, 'User']                = tweet.user.name\n",
    "        df.loc[i, 'User_statuses_count'] = tweet.user.statuses_count\n",
    "        df.loc[i, 'user_followers']      = tweet.user.followers_count\n",
    "        df.loc[i, 'User_location']       = tweet.user.location\n",
    "        df.loc[i, 'User_verified']       = tweet.user.verified\n",
    "        df.loc[i, 'fav_count']           = tweet.favorite_count\n",
    "        df.loc[i, 'rt_count']            = tweet.retweet_count\n",
    "        df.loc[i, 'tweet_date']          = tweet.created_at\n",
    "        \n",
    "        # Storing the data in to an excel file\n",
    "        df.to_excel('{}.xlsx'.format(file_name))\n",
    "        i=i+1\n",
    "        if(i == 1000):\n",
    "            break\n",
    "        else:\n",
    "            pass\n",
    "        "
   ]
  },
  {
   "cell_type": "code",
   "execution_count": 95,
   "metadata": {},
   "outputs": [
    {
     "name": "stdout",
     "output_type": "stream",
     "text": [
      "999\r"
     ]
    }
   ],
   "source": [
    "stream(data='farmer protest', file_name='tweets_dataset')"
   ]
  },
  {
   "cell_type": "code",
   "execution_count": 96,
   "metadata": {},
   "outputs": [
    {
     "data": {
      "text/html": [
       "<div>\n",
       "<style scoped>\n",
       "    .dataframe tbody tr th:only-of-type {\n",
       "        vertical-align: middle;\n",
       "    }\n",
       "\n",
       "    .dataframe tbody tr th {\n",
       "        vertical-align: top;\n",
       "    }\n",
       "\n",
       "    .dataframe thead th {\n",
       "        text-align: right;\n",
       "    }\n",
       "</style>\n",
       "<table border=\"1\" class=\"dataframe\">\n",
       "  <thead>\n",
       "    <tr style=\"text-align: right;\">\n",
       "      <th></th>\n",
       "      <th>Tweets</th>\n",
       "      <th>User</th>\n",
       "      <th>User_statuses_count</th>\n",
       "      <th>user_followers</th>\n",
       "      <th>User_location</th>\n",
       "      <th>User_verified</th>\n",
       "      <th>fav_count</th>\n",
       "      <th>rt_count</th>\n",
       "      <th>tweet_date</th>\n",
       "    </tr>\n",
       "  </thead>\n",
       "  <tbody>\n",
       "    <tr>\n",
       "      <th>0</th>\n",
       "      <td>Sun lo #GodiMedia farmer protest nu funding ki...</td>\n",
       "      <td>Jas</td>\n",
       "      <td>238</td>\n",
       "      <td>4</td>\n",
       "      <td></td>\n",
       "      <td>False</td>\n",
       "      <td>0</td>\n",
       "      <td>0</td>\n",
       "      <td>2020-12-26 20:30:05</td>\n",
       "    </tr>\n",
       "    <tr>\n",
       "      <th>1</th>\n",
       "      <td>Harnek Singh Neki Attacked | It's Not A Farmer...</td>\n",
       "      <td>Ajay</td>\n",
       "      <td>1931</td>\n",
       "      <td>240</td>\n",
       "      <td></td>\n",
       "      <td>False</td>\n",
       "      <td>0</td>\n",
       "      <td>0</td>\n",
       "      <td>2020-12-26 20:28:27</td>\n",
       "    </tr>\n",
       "    <tr>\n",
       "      <th>2</th>\n",
       "      <td>Harnek Singh Neki Attacked | It's Not A Farmer...</td>\n",
       "      <td>Vinay Teja Reddy</td>\n",
       "      <td>1944</td>\n",
       "      <td>10</td>\n",
       "      <td></td>\n",
       "      <td>False</td>\n",
       "      <td>0</td>\n",
       "      <td>0</td>\n",
       "      <td>2020-12-26 20:24:45</td>\n",
       "    </tr>\n",
       "    <tr>\n",
       "      <th>3</th>\n",
       "      <td>@KnowTheReason81 @diljitdosanjh If you think p...</td>\n",
       "      <td>Amar Atwal</td>\n",
       "      <td>92</td>\n",
       "      <td>12</td>\n",
       "      <td></td>\n",
       "      <td>False</td>\n",
       "      <td>0</td>\n",
       "      <td>0</td>\n",
       "      <td>2020-12-26 20:23:35</td>\n",
       "    </tr>\n",
       "    <tr>\n",
       "      <th>4</th>\n",
       "      <td>@BorisJohnson I am Not Farmer but Help the Mil...</td>\n",
       "      <td>Balvinder Singh</td>\n",
       "      <td>9</td>\n",
       "      <td>0</td>\n",
       "      <td></td>\n",
       "      <td>False</td>\n",
       "      <td>0</td>\n",
       "      <td>0</td>\n",
       "      <td>2020-12-26 20:21:57</td>\n",
       "    </tr>\n",
       "    <tr>\n",
       "      <th>...</th>\n",
       "      <td>...</td>\n",
       "      <td>...</td>\n",
       "      <td>...</td>\n",
       "      <td>...</td>\n",
       "      <td>...</td>\n",
       "      <td>...</td>\n",
       "      <td>...</td>\n",
       "      <td>...</td>\n",
       "      <td>...</td>\n",
       "    </tr>\n",
       "    <tr>\n",
       "      <th>995</th>\n",
       "      <td>@sammerpax @Mishra_jiiiii @liberal_slayerr Del...</td>\n",
       "      <td>Abhinav Garg</td>\n",
       "      <td>2983</td>\n",
       "      <td>82</td>\n",
       "      <td></td>\n",
       "      <td>False</td>\n",
       "      <td>0</td>\n",
       "      <td>0</td>\n",
       "      <td>2020-12-25 18:37:52</td>\n",
       "    </tr>\n",
       "    <tr>\n",
       "      <th>996</th>\n",
       "      <td>@ganpat_hande @PunYaab Ask yourself if you ans...</td>\n",
       "      <td>पागल वैज्ञानिक 😨</td>\n",
       "      <td>13556</td>\n",
       "      <td>231</td>\n",
       "      <td>पागलखाना</td>\n",
       "      <td>False</td>\n",
       "      <td>0</td>\n",
       "      <td>0</td>\n",
       "      <td>2020-12-25 18:37:50</td>\n",
       "    </tr>\n",
       "    <tr>\n",
       "      <th>997</th>\n",
       "      <td>What leader talks like that!? This is not a ba...</td>\n",
       "      <td>Saheb Singh</td>\n",
       "      <td>144</td>\n",
       "      <td>3</td>\n",
       "      <td></td>\n",
       "      <td>False</td>\n",
       "      <td>5</td>\n",
       "      <td>3</td>\n",
       "      <td>2020-12-25 18:35:59</td>\n",
       "    </tr>\n",
       "    <tr>\n",
       "      <th>998</th>\n",
       "      <td>@Simsandhu3 @AamAadmiParty @RahulGandhi Singhu...</td>\n",
       "      <td>simplybesthere</td>\n",
       "      <td>412</td>\n",
       "      <td>15</td>\n",
       "      <td></td>\n",
       "      <td>False</td>\n",
       "      <td>0</td>\n",
       "      <td>0</td>\n",
       "      <td>2020-12-25 18:33:52</td>\n",
       "    </tr>\n",
       "    <tr>\n",
       "      <th>999</th>\n",
       "      <td>@KocharSundeep what are your prediction for fa...</td>\n",
       "      <td>Dharamvir Chauhan</td>\n",
       "      <td>2798</td>\n",
       "      <td>86</td>\n",
       "      <td></td>\n",
       "      <td>False</td>\n",
       "      <td>0</td>\n",
       "      <td>0</td>\n",
       "      <td>2020-12-25 18:31:40</td>\n",
       "    </tr>\n",
       "  </tbody>\n",
       "</table>\n",
       "<p>1000 rows × 9 columns</p>\n",
       "</div>"
      ],
      "text/plain": [
       "                                                Tweets               User  \\\n",
       "0    Sun lo #GodiMedia farmer protest nu funding ki...                Jas   \n",
       "1    Harnek Singh Neki Attacked | It's Not A Farmer...               Ajay   \n",
       "2    Harnek Singh Neki Attacked | It's Not A Farmer...   Vinay Teja Reddy   \n",
       "3    @KnowTheReason81 @diljitdosanjh If you think p...         Amar Atwal   \n",
       "4    @BorisJohnson I am Not Farmer but Help the Mil...    Balvinder Singh   \n",
       "..                                                 ...                ...   \n",
       "995  @sammerpax @Mishra_jiiiii @liberal_slayerr Del...       Abhinav Garg   \n",
       "996  @ganpat_hande @PunYaab Ask yourself if you ans...   पागल वैज्ञानिक 😨   \n",
       "997  What leader talks like that!? This is not a ba...        Saheb Singh   \n",
       "998  @Simsandhu3 @AamAadmiParty @RahulGandhi Singhu...     simplybesthere   \n",
       "999  @KocharSundeep what are your prediction for fa...  Dharamvir Chauhan   \n",
       "\n",
       "    User_statuses_count user_followers User_location User_verified fav_count  \\\n",
       "0                   238              4                       False         0   \n",
       "1                  1931            240                       False         0   \n",
       "2                  1944             10                       False         0   \n",
       "3                    92             12                       False         0   \n",
       "4                     9              0                       False         0   \n",
       "..                  ...            ...           ...           ...       ...   \n",
       "995                2983             82                       False         0   \n",
       "996               13556            231      पागलखाना         False         0   \n",
       "997                 144              3                       False         5   \n",
       "998                 412             15                       False         0   \n",
       "999                2798             86                       False         0   \n",
       "\n",
       "    rt_count           tweet_date  \n",
       "0          0  2020-12-26 20:30:05  \n",
       "1          0  2020-12-26 20:28:27  \n",
       "2          0  2020-12-26 20:24:45  \n",
       "3          0  2020-12-26 20:23:35  \n",
       "4          0  2020-12-26 20:21:57  \n",
       "..       ...                  ...  \n",
       "995        0  2020-12-25 18:37:52  \n",
       "996        0  2020-12-25 18:37:50  \n",
       "997        3  2020-12-25 18:35:59  \n",
       "998        0  2020-12-25 18:33:52  \n",
       "999        0  2020-12-25 18:31:40  \n",
       "\n",
       "[1000 rows x 9 columns]"
      ]
     },
     "execution_count": 96,
     "metadata": {},
     "output_type": "execute_result"
    }
   ],
   "source": [
    "df"
   ]
  },
  {
   "cell_type": "code",
   "execution_count": 104,
   "metadata": {},
   "outputs": [],
   "source": [
    "# importing textblob for analysis\n",
    "\n",
    "from textblob import TextBlob"
   ]
  },
  {
   "cell_type": "code",
   "execution_count": 109,
   "metadata": {},
   "outputs": [],
   "source": [
    "# function for Cleaning the tweet-text\n",
    "\n",
    "import re\n",
    "\n",
    "def clean_tweet(tweet):\n",
    "    return ' '.join(re.sub('(@[A-Za-z0-9]+)|([^0-9A-Za-z \\t])|(\\w+:\\/\\/\\S+)', ' ', tweet).split())"
   ]
  },
  {
   "cell_type": "code",
   "execution_count": 110,
   "metadata": {},
   "outputs": [],
   "source": [
    "# function for applying analysis on each tweet \n",
    "\n",
    "def analyze_sentiment(tweet):\n",
    "    analysis = TextBlob(tweet)\n",
    "    if analysis.sentiment.polarity > 0:\n",
    "        return 'Positive'\n",
    "    elif analysis.sentiment.polarity == 0:\n",
    "        return 'Neutral'\n",
    "    else:\n",
    "        return 'Negative'"
   ]
  },
  {
   "cell_type": "code",
   "execution_count": 113,
   "metadata": {},
   "outputs": [],
   "source": [
    "# applying cleaning function on the 'Tweets' column\n",
    "\n",
    "df['clean_tweet']=df['Tweets'].apply(lambda x : clean_tweet(x))"
   ]
  },
  {
   "cell_type": "code",
   "execution_count": 114,
   "metadata": {},
   "outputs": [
    {
     "data": {
      "text/html": [
       "<div>\n",
       "<style scoped>\n",
       "    .dataframe tbody tr th:only-of-type {\n",
       "        vertical-align: middle;\n",
       "    }\n",
       "\n",
       "    .dataframe tbody tr th {\n",
       "        vertical-align: top;\n",
       "    }\n",
       "\n",
       "    .dataframe thead th {\n",
       "        text-align: right;\n",
       "    }\n",
       "</style>\n",
       "<table border=\"1\" class=\"dataframe\">\n",
       "  <thead>\n",
       "    <tr style=\"text-align: right;\">\n",
       "      <th></th>\n",
       "      <th>Tweets</th>\n",
       "      <th>User</th>\n",
       "      <th>User_statuses_count</th>\n",
       "      <th>user_followers</th>\n",
       "      <th>User_location</th>\n",
       "      <th>User_verified</th>\n",
       "      <th>fav_count</th>\n",
       "      <th>rt_count</th>\n",
       "      <th>tweet_date</th>\n",
       "      <th>clean_tweet</th>\n",
       "    </tr>\n",
       "  </thead>\n",
       "  <tbody>\n",
       "    <tr>\n",
       "      <th>0</th>\n",
       "      <td>Sun lo #GodiMedia farmer protest nu funding ki...</td>\n",
       "      <td>Jas</td>\n",
       "      <td>238</td>\n",
       "      <td>4</td>\n",
       "      <td></td>\n",
       "      <td>False</td>\n",
       "      <td>0</td>\n",
       "      <td>0</td>\n",
       "      <td>2020-12-26 20:30:05</td>\n",
       "      <td>Sun lo GodiMedia farmer protest nu funding kit...</td>\n",
       "    </tr>\n",
       "    <tr>\n",
       "      <th>1</th>\n",
       "      <td>Harnek Singh Neki Attacked | It's Not A Farmer...</td>\n",
       "      <td>Ajay</td>\n",
       "      <td>1931</td>\n",
       "      <td>240</td>\n",
       "      <td></td>\n",
       "      <td>False</td>\n",
       "      <td>0</td>\n",
       "      <td>0</td>\n",
       "      <td>2020-12-26 20:28:27</td>\n",
       "      <td>Harnek Singh Neki Attacked It s Not A Farmer P...</td>\n",
       "    </tr>\n",
       "    <tr>\n",
       "      <th>2</th>\n",
       "      <td>Harnek Singh Neki Attacked | It's Not A Farmer...</td>\n",
       "      <td>Vinay Teja Reddy</td>\n",
       "      <td>1944</td>\n",
       "      <td>10</td>\n",
       "      <td></td>\n",
       "      <td>False</td>\n",
       "      <td>0</td>\n",
       "      <td>0</td>\n",
       "      <td>2020-12-26 20:24:45</td>\n",
       "      <td>Harnek Singh Neki Attacked It s Not A Farmer P...</td>\n",
       "    </tr>\n",
       "    <tr>\n",
       "      <th>3</th>\n",
       "      <td>@KnowTheReason81 @diljitdosanjh If you think p...</td>\n",
       "      <td>Amar Atwal</td>\n",
       "      <td>92</td>\n",
       "      <td>12</td>\n",
       "      <td></td>\n",
       "      <td>False</td>\n",
       "      <td>0</td>\n",
       "      <td>0</td>\n",
       "      <td>2020-12-26 20:23:35</td>\n",
       "      <td>If you think protest is instigated by middle m...</td>\n",
       "    </tr>\n",
       "    <tr>\n",
       "      <th>4</th>\n",
       "      <td>@BorisJohnson I am Not Farmer but Help the Mil...</td>\n",
       "      <td>Balvinder Singh</td>\n",
       "      <td>9</td>\n",
       "      <td>0</td>\n",
       "      <td></td>\n",
       "      <td>False</td>\n",
       "      <td>0</td>\n",
       "      <td>0</td>\n",
       "      <td>2020-12-26 20:21:57</td>\n",
       "      <td>I am Not Farmer but Help the Millions of Farme...</td>\n",
       "    </tr>\n",
       "  </tbody>\n",
       "</table>\n",
       "</div>"
      ],
      "text/plain": [
       "                                              Tweets              User  \\\n",
       "0  Sun lo #GodiMedia farmer protest nu funding ki...               Jas   \n",
       "1  Harnek Singh Neki Attacked | It's Not A Farmer...              Ajay   \n",
       "2  Harnek Singh Neki Attacked | It's Not A Farmer...  Vinay Teja Reddy   \n",
       "3  @KnowTheReason81 @diljitdosanjh If you think p...        Amar Atwal   \n",
       "4  @BorisJohnson I am Not Farmer but Help the Mil...   Balvinder Singh   \n",
       "\n",
       "  User_statuses_count user_followers User_location User_verified fav_count  \\\n",
       "0                 238              4                       False         0   \n",
       "1                1931            240                       False         0   \n",
       "2                1944             10                       False         0   \n",
       "3                  92             12                       False         0   \n",
       "4                   9              0                       False         0   \n",
       "\n",
       "  rt_count           tweet_date  \\\n",
       "0        0  2020-12-26 20:30:05   \n",
       "1        0  2020-12-26 20:28:27   \n",
       "2        0  2020-12-26 20:24:45   \n",
       "3        0  2020-12-26 20:23:35   \n",
       "4        0  2020-12-26 20:21:57   \n",
       "\n",
       "                                         clean_tweet  \n",
       "0  Sun lo GodiMedia farmer protest nu funding kit...  \n",
       "1  Harnek Singh Neki Attacked It s Not A Farmer P...  \n",
       "2  Harnek Singh Neki Attacked It s Not A Farmer P...  \n",
       "3  If you think protest is instigated by middle m...  \n",
       "4  I am Not Farmer but Help the Millions of Farme...  "
      ]
     },
     "execution_count": 114,
     "metadata": {},
     "output_type": "execute_result"
    }
   ],
   "source": [
    "df.head()"
   ]
  },
  {
   "cell_type": "code",
   "execution_count": 115,
   "metadata": {},
   "outputs": [],
   "source": [
    "# applying the sentiment analysis function on 'clean_tweet' column\n",
    "\n",
    "df['sentiment'] = df['clean_tweet'].apply(lambda x : analyze_sentiment(x))"
   ]
  },
  {
   "cell_type": "code",
   "execution_count": 116,
   "metadata": {},
   "outputs": [
    {
     "data": {
      "text/html": [
       "<div>\n",
       "<style scoped>\n",
       "    .dataframe tbody tr th:only-of-type {\n",
       "        vertical-align: middle;\n",
       "    }\n",
       "\n",
       "    .dataframe tbody tr th {\n",
       "        vertical-align: top;\n",
       "    }\n",
       "\n",
       "    .dataframe thead th {\n",
       "        text-align: right;\n",
       "    }\n",
       "</style>\n",
       "<table border=\"1\" class=\"dataframe\">\n",
       "  <thead>\n",
       "    <tr style=\"text-align: right;\">\n",
       "      <th></th>\n",
       "      <th>Tweets</th>\n",
       "      <th>User</th>\n",
       "      <th>User_statuses_count</th>\n",
       "      <th>user_followers</th>\n",
       "      <th>User_location</th>\n",
       "      <th>User_verified</th>\n",
       "      <th>fav_count</th>\n",
       "      <th>rt_count</th>\n",
       "      <th>tweet_date</th>\n",
       "      <th>clean_tweet</th>\n",
       "      <th>sentiment</th>\n",
       "    </tr>\n",
       "  </thead>\n",
       "  <tbody>\n",
       "    <tr>\n",
       "      <th>0</th>\n",
       "      <td>Sun lo #GodiMedia farmer protest nu funding ki...</td>\n",
       "      <td>Jas</td>\n",
       "      <td>238</td>\n",
       "      <td>4</td>\n",
       "      <td></td>\n",
       "      <td>False</td>\n",
       "      <td>0</td>\n",
       "      <td>0</td>\n",
       "      <td>2020-12-26 20:30:05</td>\n",
       "      <td>Sun lo GodiMedia farmer protest nu funding kit...</td>\n",
       "      <td>Neutral</td>\n",
       "    </tr>\n",
       "    <tr>\n",
       "      <th>1</th>\n",
       "      <td>Harnek Singh Neki Attacked | It's Not A Farmer...</td>\n",
       "      <td>Ajay</td>\n",
       "      <td>1931</td>\n",
       "      <td>240</td>\n",
       "      <td></td>\n",
       "      <td>False</td>\n",
       "      <td>0</td>\n",
       "      <td>0</td>\n",
       "      <td>2020-12-26 20:28:27</td>\n",
       "      <td>Harnek Singh Neki Attacked It s Not A Farmer P...</td>\n",
       "      <td>Neutral</td>\n",
       "    </tr>\n",
       "    <tr>\n",
       "      <th>2</th>\n",
       "      <td>Harnek Singh Neki Attacked | It's Not A Farmer...</td>\n",
       "      <td>Vinay Teja Reddy</td>\n",
       "      <td>1944</td>\n",
       "      <td>10</td>\n",
       "      <td></td>\n",
       "      <td>False</td>\n",
       "      <td>0</td>\n",
       "      <td>0</td>\n",
       "      <td>2020-12-26 20:24:45</td>\n",
       "      <td>Harnek Singh Neki Attacked It s Not A Farmer P...</td>\n",
       "      <td>Neutral</td>\n",
       "    </tr>\n",
       "    <tr>\n",
       "      <th>3</th>\n",
       "      <td>@KnowTheReason81 @diljitdosanjh If you think p...</td>\n",
       "      <td>Amar Atwal</td>\n",
       "      <td>92</td>\n",
       "      <td>12</td>\n",
       "      <td></td>\n",
       "      <td>False</td>\n",
       "      <td>0</td>\n",
       "      <td>0</td>\n",
       "      <td>2020-12-26 20:23:35</td>\n",
       "      <td>If you think protest is instigated by middle m...</td>\n",
       "      <td>Negative</td>\n",
       "    </tr>\n",
       "    <tr>\n",
       "      <th>4</th>\n",
       "      <td>@BorisJohnson I am Not Farmer but Help the Mil...</td>\n",
       "      <td>Balvinder Singh</td>\n",
       "      <td>9</td>\n",
       "      <td>0</td>\n",
       "      <td></td>\n",
       "      <td>False</td>\n",
       "      <td>0</td>\n",
       "      <td>0</td>\n",
       "      <td>2020-12-26 20:21:57</td>\n",
       "      <td>I am Not Farmer but Help the Millions of Farme...</td>\n",
       "      <td>Positive</td>\n",
       "    </tr>\n",
       "  </tbody>\n",
       "</table>\n",
       "</div>"
      ],
      "text/plain": [
       "                                              Tweets              User  \\\n",
       "0  Sun lo #GodiMedia farmer protest nu funding ki...               Jas   \n",
       "1  Harnek Singh Neki Attacked | It's Not A Farmer...              Ajay   \n",
       "2  Harnek Singh Neki Attacked | It's Not A Farmer...  Vinay Teja Reddy   \n",
       "3  @KnowTheReason81 @diljitdosanjh If you think p...        Amar Atwal   \n",
       "4  @BorisJohnson I am Not Farmer but Help the Mil...   Balvinder Singh   \n",
       "\n",
       "  User_statuses_count user_followers User_location User_verified fav_count  \\\n",
       "0                 238              4                       False         0   \n",
       "1                1931            240                       False         0   \n",
       "2                1944             10                       False         0   \n",
       "3                  92             12                       False         0   \n",
       "4                   9              0                       False         0   \n",
       "\n",
       "  rt_count           tweet_date  \\\n",
       "0        0  2020-12-26 20:30:05   \n",
       "1        0  2020-12-26 20:28:27   \n",
       "2        0  2020-12-26 20:24:45   \n",
       "3        0  2020-12-26 20:23:35   \n",
       "4        0  2020-12-26 20:21:57   \n",
       "\n",
       "                                         clean_tweet sentiment  \n",
       "0  Sun lo GodiMedia farmer protest nu funding kit...   Neutral  \n",
       "1  Harnek Singh Neki Attacked It s Not A Farmer P...   Neutral  \n",
       "2  Harnek Singh Neki Attacked It s Not A Farmer P...   Neutral  \n",
       "3  If you think protest is instigated by middle m...  Negative  \n",
       "4  I am Not Farmer but Help the Millions of Farme...  Positive  "
      ]
     },
     "execution_count": 116,
     "metadata": {},
     "output_type": "execute_result"
    }
   ],
   "source": [
    "df.head()"
   ]
  },
  {
   "cell_type": "code",
   "execution_count": 119,
   "metadata": {},
   "outputs": [],
   "source": [
    "def compare_tweet_sentiment(n):\n",
    "    print(\"Original tweet:\\n\",df['Tweets'][n])\n",
    "    print()\n",
    "    print(\"Clean tweet:\\n\",df['clean_tweet'][n])\n",
    "    print()\n",
    "    print(\"Sentiment of the tweet:\\n\",df['sentiment'][n])"
   ]
  },
  {
   "cell_type": "code",
   "execution_count": 120,
   "metadata": {},
   "outputs": [
    {
     "name": "stdout",
     "output_type": "stream",
     "text": [
      "Original tweet:\n",
      " @ANI There is no requirements of yadav in farmer protest https://t.co/rK3HLRlG37\n",
      "\n",
      "Clean tweet:\n",
      " There is no requirements of yadav in farmer protest\n",
      "\n",
      "Sentiment of the tweet:\n",
      " Neutral\n"
     ]
    }
   ],
   "source": [
    "compare_tweet_sentiment(20)"
   ]
  },
  {
   "cell_type": "code",
   "execution_count": 121,
   "metadata": {},
   "outputs": [
    {
     "name": "stdout",
     "output_type": "stream",
     "text": [
      "Original tweet:\n",
      " Farmer Protest \n",
      "India \n",
      "\n",
      "https://t.co/ESWJMpaXGp\n",
      "\n",
      "Clean tweet:\n",
      " Farmer Protest India\n",
      "\n",
      "Sentiment of the tweet:\n",
      " Neutral\n"
     ]
    }
   ],
   "source": [
    "compare_tweet_sentiment(35)"
   ]
  },
  {
   "cell_type": "code",
   "execution_count": 122,
   "metadata": {},
   "outputs": [
    {
     "name": "stdout",
     "output_type": "stream",
     "text": [
      "Original tweet:\n",
      " @mnishant2 @5Forty3 As one Farmer leader said on Tv.. The opposition strength is just 40-45 MPs .. how is it that govt believe them to b soo powerful that all protest are sponsored n maintained by them ......\n",
      "\n",
      "Clean tweet:\n",
      " As one Farmer leader said on Tv The opposition strength is just 40 45 MPs how is it that govt believe them to b soo powerful that all protest are sponsored n maintained by them\n",
      "\n",
      "Sentiment of the tweet:\n",
      " Positive\n"
     ]
    }
   ],
   "source": [
    "compare_tweet_sentiment(99)"
   ]
  },
  {
   "cell_type": "code",
   "execution_count": 123,
   "metadata": {},
   "outputs": [
    {
     "name": "stdout",
     "output_type": "stream",
     "text": [
      "Original tweet:\n",
      " This is reality of all of India. That’s why it’s a 2 state farmer protest and not all 15 cr farmer protest. https://t.co/f4ORQdduxT\n",
      "\n",
      "Clean tweet:\n",
      " This is reality of all of India That s why it s a 2 state farmer protest and not all 15 cr farmer protest\n",
      "\n",
      "Sentiment of the tweet:\n",
      " Neutral\n"
     ]
    }
   ],
   "source": [
    "compare_tweet_sentiment(376)"
   ]
  },
  {
   "cell_type": "code",
   "execution_count": 126,
   "metadata": {},
   "outputs": [
    {
     "name": "stdout",
     "output_type": "stream",
     "text": [
      "Original tweet:\n",
      " @BRajewal Farmer protest's stalemate need to be broken by daily attempting to proceed into Delhi for keeping central government on its toes. Otherwise, government won't be forced to back down.\n",
      "\n",
      "Clean tweet:\n",
      " Farmer protest s stalemate need to be broken by daily attempting to proceed into Delhi for keeping central government on its toes Otherwise government won t be forced to back down\n",
      "\n",
      "Sentiment of the tweet:\n",
      " Negative\n"
     ]
    }
   ],
   "source": [
    "compare_tweet_sentiment(896)"
   ]
  },
  {
   "cell_type": "code",
   "execution_count": 152,
   "metadata": {},
   "outputs": [
    {
     "data": {
      "image/png": "[encoded data removed]",
      "text/plain": [
       "<Figure size 504x360 with 1 Axes>"
      ]
     },
     "metadata": {},
     "output_type": "display_data"
    }
   ],
   "source": [
    "from matplotlib import pyplot as plt\n",
    "import seaborn as sns\n",
    "\n",
    "plt.figure(figsize=(7,5))\n",
    "sns.set_style('darkgrid')\n",
    "sns.countplot(x='sentiment',data=df, palette ='bright');"
   ]
  },
  {
   "cell_type": "markdown",
   "metadata": {},
   "source": [
    "### So it looks like a lot of people are neutral but there are also alot of positive support for farmer protest according to the twitter data analysis. "
   ]
  },
  {
   "cell_type": "code",
   "execution_count": null,
   "metadata": {},
   "outputs": [],
   "source": []
  }
 ],
 "metadata": {
  "kernelspec": {
   "display_name": "Python 3",
   "language": "python",
   "name": "python3"
  },
  "language_info": {
   "codemirror_mode": {
    "name": "ipython",
    "version": 3
   },
   "file_extension": ".py",
   "mimetype": "text/x-python",
   "name": "python",
   "nbconvert_exporter": "python",
   "pygments_lexer": "ipython3",
   "version": "3.8.3"
  }
 },
 "nbformat": 4,
 "nbformat_minor": 4
}
