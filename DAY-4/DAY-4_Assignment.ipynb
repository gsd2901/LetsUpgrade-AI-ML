{
 "cells": [
  {
   "cell_type": "markdown",
   "metadata": {},
   "source": [
    "Question 1 :</br>\n",
    "<br/>Research on whether addition, subtraction, multiplication, division, floor division and modulooperations be performed on complex numbers. Based on your study, implement a Pythonprogram to demonstrate these operations"
   ]
  },
  {
   "cell_type": "code",
   "execution_count": null,
   "metadata": {},
   "outputs": [],
   "source": [
    "c1 = complex(5,8)\n",
    "c2 = complex(8,17)\n",
    "\n",
    "#operations that can be performed on complex numbers\n",
    "print(\"Addition of two complex numbers :  =\", c1 + c2)\n",
    "print(\"Subtraction of two complex numbers =\", c1 - c2)\n",
    "print(\"Multiplication of two complex numbers  =\", c1 * c2)\n",
    "print(\"Division of two complex numbers  =\", c1 / c2)"
   ]
  },
  {
   "cell_type": "markdown",
   "metadata": {},
   "source": [
    "Floor division for complex numbers . <br/>  Cannot be done\n",
    "<br/>The floor function is defined as the largest integer less than or equal to the real number given.\n",
    "<br/>Since \"less than or equal to\" isn't defined for complex numbers you can't have a floor function for them."
   ]
  },
  {
   "cell_type": "markdown",
   "metadata": {},
   "source": [
    "Modulo division for complex numbers .\n",
    "Cannot be done ."
   ]
  },
  {
   "cell_type": "markdown",
   "metadata": {},
   "source": [
    "Question 2 :\n",
    "<br/>Research on range() functions and its parameters. Create a markdown cell and write in your ownwords (no copy-paste from google please) what you understand about it. Implement a smallprogram of your choice on the same."
   ]
  },
  {
   "cell_type": "markdown",
   "metadata": {},
   "source": [
    "Answer : <br/>\n",
    "The range() function has two sets of parameters, as follows:<br/>\n",
    "range(stop)<br/>\n",
    "    stop: Number of integers (whole numbers) to generate, starting from zero. eg. range(3) == [0, 1, 2].<br/>\n",
    "range([begin], end[, step])<br/>\n",
    "    begin: Starting number of the sequence.<br/>\n",
    "    end: Generate numbers up to, but not including this number.<br/>\n",
    "    step: Difference between each number in the sequence.<br/>"
   ]
  },
  {
   "cell_type": "code",
   "execution_count": 6,
   "metadata": {},
   "outputs": [
    {
     "name": "stdout",
     "output_type": "stream",
     "text": [
      "0\n",
      "1\n",
      "2\n",
      "3\n",
      "Second set of parameters\n",
      "4\n",
      "5\n",
      "6\n",
      "7\n",
      "Second set of parameters with step\n",
      "4\n",
      "6\n",
      "8\n"
     ]
    }
   ],
   "source": [
    "for i in range(4):\n",
    "    print(i)\n",
    "print(\"Second set of parameters\")    \n",
    "for i in range(4, 8):\n",
    "    print(i)\n",
    "print(\"Second set of parameters with step\")      \n",
    "for i in range(4, 10, 2):\n",
    "    print(i)"
   ]
  },
  {
   "cell_type": "markdown",
   "metadata": {},
   "source": [
    "Question 3: \n",
    "<br/>Consider two numbers. Perform their subtraction and if the result of subtraction is greater than25, print their multiplication result else print their division result."
   ]
  },
  {
   "cell_type": "code",
   "execution_count": 10,
   "metadata": {},
   "outputs": [
    {
     "name": "stdout",
     "output_type": "stream",
     "text": [
      "200\n",
      "20\n",
      "Result is greater than 25 so Multiplication is   4000\n"
     ]
    }
   ],
   "source": [
    "num1=int(input())\n",
    "num2=int(input())\n",
    "if ((num1-num2) > 25 or (num2-num1) > 25):\n",
    "    print(\"Result is greater than 25 so Multiplication is  \",num1*num2)\n",
    "else:\n",
    "    if num1>num2:\n",
    "        print(\"Result is less than 25 so  Division is \",num1//num2)\n",
    "    else:\n",
    "        print(\"Result is less than 25 so  Division is \",num2//num1)"
   ]
  },
  {
   "cell_type": "markdown",
   "metadata": {},
   "source": [
    "Question 4:<br/>Consider a list of 10 elements of integer values. If the number in the list is divisible by 2, print theresult as \"square of that number minus 2\"."
   ]
  },
  {
   "cell_type": "code",
   "execution_count": 16,
   "metadata": {},
   "outputs": [
    {
     "name": "stdout",
     "output_type": "stream",
     "text": [
      "10 98\n",
      "12 142\n",
      "14 194\n",
      "16 254\n",
      "18 322\n"
     ]
    }
   ],
   "source": [
    "l=[*range(10,20,1)]\n",
    "for i in l:\n",
    "    if i%2 == 0:\n",
    "        print(i,(i*i)-2)"
   ]
  },
  {
   "cell_type": "markdown",
   "metadata": {},
   "source": [
    "Question 5:<br/>Consider a list of 10 elements. Print all the elements in the list which are greater than 7 when thatnumber is divided 2"
   ]
  },
  {
   "cell_type": "code",
   "execution_count": 17,
   "metadata": {},
   "outputs": [
    {
     "name": "stdout",
     "output_type": "stream",
     "text": [
      "16\n",
      "17\n",
      "18\n",
      "19\n"
     ]
    }
   ],
   "source": [
    "l=[*range(10,20,1)]\n",
    "for i in l:\n",
    "    if i//2 > 7:\n",
    "        print(i)"
   ]
  },
  {
   "cell_type": "code",
   "execution_count": null,
   "metadata": {},
   "outputs": [],
   "source": []
  }
 ],
 "metadata": {
  "kernelspec": {
   "display_name": "Python 3",
   "language": "python",
   "name": "python3"
  },
  "language_info": {
   "codemirror_mode": {
    "name": "ipython",
    "version": 3
   },
   "file_extension": ".py",
   "mimetype": "text/x-python",
   "name": "python",
   "nbconvert_exporter": "python",
   "pygments_lexer": "ipython3",
   "version": "3.7.4"
  }
 },
 "nbformat": 4,
 "nbformat_minor": 2
}
