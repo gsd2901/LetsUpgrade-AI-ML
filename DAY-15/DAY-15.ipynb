{
 "cells": [
  {
   "cell_type": "markdown",
   "metadata": {},
   "source": [
    "# 1. Create a 3x3x3 array with random values "
   ]
  },
  {
   "cell_type": "code",
   "execution_count": 2,
   "metadata": {},
   "outputs": [
    {
     "name": "stdout",
     "output_type": "stream",
     "text": [
      "[[[0.95423834 0.09532952 0.05744096]\n",
      "  [0.15162862 0.79701274 0.55031061]\n",
      "  [0.22400328 0.63340594 0.96002342]]\n",
      "\n",
      " [[0.97563238 0.62361781 0.9406173 ]\n",
      "  [0.82476371 0.43579501 0.14804848]\n",
      "  [0.08769496 0.08911945 0.31125267]]\n",
      "\n",
      " [[0.11385063 0.0199995  0.78256286]\n",
      "  [0.59610462 0.92808987 0.14212088]\n",
      "  [0.47624989 0.46499595 0.87802856]]]\n"
     ]
    }
   ],
   "source": [
    "import numpy as np\n",
    "a = np.random.random((3,3,3))\n",
    "print(a)"
   ]
  },
  {
   "cell_type": "markdown",
   "metadata": {},
   "source": [
    "# 2.Create a 5x5 matrix with values 1,2,3,4 just below the diagonal"
   ]
  },
  {
   "cell_type": "code",
   "execution_count": 11,
   "metadata": {},
   "outputs": [
    {
     "name": "stdout",
     "output_type": "stream",
     "text": [
      "[[0 0 0 0 0 0]\n",
      " [1 0 0 0 0 0]\n",
      " [0 2 0 0 0 0]\n",
      " [0 0 3 0 0 0]\n",
      " [0 0 0 4 0 0]]\n"
     ]
    }
   ],
   "source": [
    "a = np.diag([1, 2, 3, 4, 5],k=-1)\n",
    "print(a[:5])"
   ]
  },
  {
   "cell_type": "markdown",
   "metadata": {},
   "source": [
    "# 3.Create a 8x8 matrix and fill it with a checkerboard pattern"
   ]
  },
  {
   "cell_type": "code",
   "execution_count": 3,
   "metadata": {},
   "outputs": [
    {
     "name": "stdout",
     "output_type": "stream",
     "text": [
      "[[0 1 0 1 0 1 0 1]\n",
      " [1 0 1 0 1 0 1 0]\n",
      " [0 1 0 1 0 1 0 1]\n",
      " [1 0 1 0 1 0 1 0]\n",
      " [0 1 0 1 0 1 0 1]\n",
      " [1 0 1 0 1 0 1 0]\n",
      " [0 1 0 1 0 1 0 1]\n",
      " [1 0 1 0 1 0 1 0]]\n"
     ]
    }
   ],
   "source": [
    "a = np.ones((3,3))\n",
    "a = np.zeros((8,8),dtype=int)\n",
    "a[1::2,::2] = 1\n",
    "a[::2,1::2] = 1\n",
    "print(a)"
   ]
  },
  {
   "cell_type": "markdown",
   "metadata": {},
   "source": [
    "# 4. Normalize a 5x5 random matrix"
   ]
  },
  {
   "cell_type": "code",
   "execution_count": 12,
   "metadata": {},
   "outputs": [
    {
     "name": "stdout",
     "output_type": "stream",
     "text": [
      "[[0.87353278 0.77187943 0.06030979 0.1634386  0.01671604]\n",
      " [0.59519548 0.91242728 0.15904215 0.40343553 0.52869957]\n",
      " [0.85098466 0.41339149 0.36117116 0.308488   0.50786071]\n",
      " [0.88811361 0.89490722 0.56550785 0.59827857 0.84093204]\n",
      " [0.37372454 0.47693608 0.11155003 0.70167951 0.07708073]]\n",
      "After Normalization\n",
      "[[0.95657697 0.843088   0.04866943 0.16380564 0.        ]\n",
      " [0.64583251 1.         0.15889731 0.43174572 0.5715944 ]\n",
      " [0.93140354 0.44286086 0.38456045 0.32574332 0.54832925]\n",
      " [0.97285547 0.98044006 0.61268832 0.64927457 0.92018048]\n",
      " [0.39857543 0.51380403 0.10587563 0.76471461 0.06739303]]\n"
     ]
    }
   ],
   "source": [
    "a = np.random.random((5,5))\n",
    "print(a)\n",
    "amax, amin = a.max(), a.min()\n",
    "print(\"After Normalization\")\n",
    "a = (a - amin)/(amax - amin)\n",
    "print(a)"
   ]
  },
  {
   "cell_type": "markdown",
   "metadata": {},
   "source": [
    "# 5.  How to find common values between two arrays?"
   ]
  },
  {
   "cell_type": "code",
   "execution_count": 14,
   "metadata": {},
   "outputs": [
    {
     "name": "stdout",
     "output_type": "stream",
     "text": [
      "Array A:  [ 0 45 55 65 75]\n",
      "Array B:  [12, 45, 35, 75]\n",
      "Common values between two arrays:\n",
      "[45 75]\n"
     ]
    }
   ],
   "source": [
    "a = np.array([0, 45, 55, 65, 75])\n",
    "print(\"Array A: \",a)\n",
    "b = [12, 45, 35, 75]\n",
    "print(\"Array B: \",b)\n",
    "print(\"Common values between two arrays:\")\n",
    "print(np.intersect1d(a, b))"
   ]
  },
  {
   "cell_type": "markdown",
   "metadata": {},
   "source": [
    "# 6.How to get the dates of yesterday, today and tomorrow?"
   ]
  },
  {
   "cell_type": "code",
   "execution_count": 17,
   "metadata": {},
   "outputs": [
    {
     "name": "stdout",
     "output_type": "stream",
     "text": [
      "Yestraday:  2020-07-25\n",
      "Today:  2020-07-26\n",
      "Tomorrow:  2020-07-27\n"
     ]
    }
   ],
   "source": [
    "yesterday = np.datetime64('today', 'D') - np.timedelta64(1, 'D')\n",
    "print(\"Yestraday: \",yesterday)\n",
    "today     = np.datetime64('today', 'D')\n",
    "print(\"Today: \",today)\n",
    "tomorrow  = np.datetime64('today', 'D') + np.timedelta64(1, 'D')\n",
    "print(\"Tomorrow: \",tomorrow)"
   ]
  },
  {
   "cell_type": "markdown",
   "metadata": {},
   "source": [
    "# 7. Consider two random array A and B, check if they are equal"
   ]
  },
  {
   "cell_type": "code",
   "execution_count": 21,
   "metadata": {},
   "outputs": [
    {
     "name": "stdout",
     "output_type": "stream",
     "text": [
      "First array:\n",
      "[1 0 2 1]\n",
      "Second array:\n",
      "[0 1 0 2]\n",
      "Test above two arrays are equal or not!\n",
      "False\n"
     ]
    }
   ],
   "source": [
    "x = np.random.randint(0,3,4)\n",
    "print(\"First array:\")\n",
    "print(x)\n",
    "y = np.random.randint(0,3,4)\n",
    "print(\"Second array:\")\n",
    "print(y)\n",
    "print(\"Test above two arrays are equal or not!\")\n",
    "array_equal = np.allclose(x, y)\n",
    "print(array_equal)"
   ]
  },
  {
   "cell_type": "markdown",
   "metadata": {},
   "source": [
    "# 8.Create random vector of size 10 and replace the maximum value by 0 "
   ]
  },
  {
   "cell_type": "code",
   "execution_count": 23,
   "metadata": {},
   "outputs": [
    {
     "name": "stdout",
     "output_type": "stream",
     "text": [
      "Original array:\n",
      "[0.91094478 0.43029868 0.96528525 0.42999281 0.83045729 0.74535682\n",
      " 0.42715807 0.42898141 0.58188854 0.59834839]\n",
      "Maximum value replaced by 0:\n",
      "[0.91094478 0.43029868 0.         0.42999281 0.83045729 0.74535682\n",
      " 0.42715807 0.42898141 0.58188854 0.59834839]\n"
     ]
    }
   ],
   "source": [
    "x = np.random.random(10)\n",
    "print(\"Original array:\")\n",
    "print(x)\n",
    "x[x.argmax()] = 0\n",
    "print(\"Maximum value replaced by 0:\")\n",
    "print(x)"
   ]
  },
  {
   "cell_type": "markdown",
   "metadata": {},
   "source": [
    "# 9. How to print all the values of an array?"
   ]
  },
  {
   "cell_type": "code",
   "execution_count": 24,
   "metadata": {},
   "outputs": [
    {
     "name": "stdout",
     "output_type": "stream",
     "text": [
      "[[0. 0. 0. 0.]\n",
      " [0. 0. 0. 0.]\n",
      " [0. 0. 0. 0.]\n",
      " [0. 0. 0. 0.]]\n"
     ]
    }
   ],
   "source": [
    "x = np.zeros((4, 4))\n",
    "print(x)"
   ]
  },
  {
   "cell_type": "markdown",
   "metadata": {},
   "source": [
    "# 10.Subtract the mean of each row of a matrix"
   ]
  },
  {
   "cell_type": "code",
   "execution_count": 25,
   "metadata": {},
   "outputs": [
    {
     "name": "stdout",
     "output_type": "stream",
     "text": [
      "Original matrix:\n",
      "\n",
      "[[0.36565529 0.40530559 0.80245104 0.55497925 0.79762008 0.30793209\n",
      "  0.14883747 0.35986789 0.47965852 0.12869336]\n",
      " [0.33055053 0.67224555 0.1853601  0.94682331 0.11211638 0.46338627\n",
      "  0.85481277 0.48810803 0.48548545 0.58706113]\n",
      " [0.59507012 0.68998645 0.34139022 0.22991572 0.29163867 0.01771913\n",
      "  0.8233652  0.018141   0.24133318 0.56952404]\n",
      " [0.32065967 0.91095086 0.89804659 0.49864377 0.21580499 0.39062206\n",
      "  0.4737303  0.98883926 0.01712954 0.16455476]\n",
      " [0.5536117  0.46120207 0.49326635 0.86514172 0.1985829  0.08318694\n",
      "  0.0558533  0.66048619 0.95499227 0.92560392]]\n",
      "\n",
      "Subtract the mean of each row of the said matrix:\n",
      "\n",
      "[[-0.06944477 -0.02979447  0.36735098  0.11987919  0.36252002 -0.12716797\n",
      "  -0.28626258 -0.07523217  0.04455846 -0.3064067 ]\n",
      " [-0.18204442  0.1596506  -0.32723485  0.43422836 -0.40047857 -0.04920868\n",
      "   0.34221782 -0.02448693 -0.0271095   0.07446618]\n",
      " [ 0.21326175  0.30817807 -0.04041816 -0.15189265 -0.09016971 -0.36408924\n",
      "   0.44155683 -0.36366737 -0.14047519  0.18771567]\n",
      " [-0.16723851  0.42305268  0.41014841  0.01074559 -0.27209319 -0.09727612\n",
      "  -0.01416788  0.50094108 -0.47076864 -0.32334342]\n",
      " [ 0.02841896 -0.06399067 -0.03192639  0.33994898 -0.32660984 -0.44200579\n",
      "  -0.46933944  0.13529345  0.42979954  0.40041119]]\n"
     ]
    }
   ],
   "source": [
    "print(\"Original matrix:\\n\")\n",
    "X = np.random.rand(5, 10)\n",
    "print(X)\n",
    "print(\"\\nSubtract the mean of each row of the said matrix:\\n\")\n",
    "Y = X - X.mean(axis=1, keepdims=True)\n",
    "print(Y)"
   ]
  },
  {
   "cell_type": "markdown",
   "metadata": {},
   "source": [
    "# 11.Consider a given vector, how to add 1 to each element indexed by a second vector (be careful with repeated indices)? "
   ]
  },
  {
   "cell_type": "code",
   "execution_count": 38,
   "metadata": {},
   "outputs": [],
   "source": [
    "a = np.array([1, 2, 3, 4])\n",
    "np.add.at(a, [0, 1, 2, 2], 1)"
   ]
  },
  {
   "cell_type": "code",
   "execution_count": 39,
   "metadata": {},
   "outputs": [
    {
     "data": {
      "text/plain": [
       "array([2, 3, 5, 4])"
      ]
     },
     "execution_count": 39,
     "metadata": {},
     "output_type": "execute_result"
    }
   ],
   "source": [
    "a"
   ]
  },
  {
   "cell_type": "markdown",
   "metadata": {},
   "source": [
    "# 12.How to get the diagonal of a dot product?"
   ]
  },
  {
   "cell_type": "code",
   "execution_count": 29,
   "metadata": {},
   "outputs": [
    {
     "name": "stdout",
     "output_type": "stream",
     "text": [
      "DOT product is ::: \n",
      "[[37 40]\n",
      " [85 92]]\n",
      "DIAGNOL OF DOT product is ::: \n"
     ]
    },
    {
     "data": {
      "text/plain": [
       "array([37, 92])"
      ]
     },
     "execution_count": 29,
     "metadata": {},
     "output_type": "execute_result"
    }
   ],
   "source": [
    "a = np.array([[1,2],[3,4]]) \n",
    "b = np.array([[11,12],[13,14]]) \n",
    "print(\"DOT product is ::: \")\n",
    "dt=np.dot(a,b)\n",
    "print(dt)\n",
    "print(\"DIAGNOL OF DOT product is ::: \")\n",
    "np.diag(dt)"
   ]
  },
  {
   "cell_type": "markdown",
   "metadata": {},
   "source": [
    "# 13.How to find the most frequent value in an array?"
   ]
  },
  {
   "cell_type": "code",
   "execution_count": 31,
   "metadata": {},
   "outputs": [
    {
     "name": "stdout",
     "output_type": "stream",
     "text": [
      "65\n"
     ]
    }
   ],
   "source": [
    "a = np.array([0, 45, 55, 65, 75 ,65 ,34, 65])\n",
    "print(np.bincount(a).argmax())"
   ]
  },
  {
   "cell_type": "markdown",
   "metadata": {},
   "source": [
    "# 14.How to get the n largest values of an array"
   ]
  },
  {
   "cell_type": "code",
   "execution_count": 34,
   "metadata": {},
   "outputs": [
    {
     "name": "stdout",
     "output_type": "stream",
     "text": [
      "3\n",
      "[65 75 85]\n"
     ]
    }
   ],
   "source": [
    "a = np.array([0, 45, 55, 65, 75 ,85 ,34, 35])\n",
    "n = int(input())\n",
    "print (a[np.argsort(a)[-n:]])"
   ]
  },
  {
   "cell_type": "markdown",
   "metadata": {},
   "source": [
    "# 15.How to create a record array from a regular array?"
   ]
  },
  {
   "cell_type": "code",
   "execution_count": 3,
   "metadata": {},
   "outputs": [],
   "source": [
    "a1=np.array([1,2,3,4])\n",
    "a2=np.array(['A','B','C','D'])\n",
    "a3=np.array([12.20,15,20,40])\n"
   ]
  },
  {
   "cell_type": "code",
   "execution_count": 4,
   "metadata": {},
   "outputs": [
    {
     "data": {
      "text/plain": [
       "rec.array([(1, 'A', 12.2), (2, 'B', 15. ), (3, 'C', 20. ), (4, 'D', 40. )],\n",
       "          dtype=[('a', '<i4'), ('b', '<U1'), ('c', '<f8')])"
      ]
     },
     "execution_count": 4,
     "metadata": {},
     "output_type": "execute_result"
    }
   ],
   "source": [
    "np.core.records.fromarrays([a1, a2, a3],names='a,b,c')"
   ]
  },
  {
   "cell_type": "code",
   "execution_count": null,
   "metadata": {},
   "outputs": [],
   "source": []
  }
 ],
 "metadata": {
  "kernelspec": {
   "display_name": "Python 3",
   "language": "python",
   "name": "python3"
  },
  "language_info": {
   "codemirror_mode": {
    "name": "ipython",
    "version": 3
   },
   "file_extension": ".py",
   "mimetype": "text/x-python",
   "name": "python",
   "nbconvert_exporter": "python",
   "pygments_lexer": "ipython3",
   "version": "3.7.4"
  }
 },
 "nbformat": 4,
 "nbformat_minor": 2
}
