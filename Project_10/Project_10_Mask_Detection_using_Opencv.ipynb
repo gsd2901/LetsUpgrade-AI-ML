{
 "cells": [
  {
   "cell_type": "markdown",
   "id": "prostate-samoa",
   "metadata": {},
   "source": [
    "# Project 10 - Face Mask Detection"
   ]
  },
  {
   "cell_type": "code",
   "execution_count": 1,
   "id": "standard-convention",
   "metadata": {},
   "outputs": [],
   "source": [
    "import keras\n",
    "import tensorflow as tf"
   ]
  },
  {
   "cell_type": "code",
   "execution_count": 2,
   "id": "applied-living",
   "metadata": {},
   "outputs": [],
   "source": [
    "from keras.preprocessing.image import ImageDataGenerator\n",
    "from keras.models import Sequential\n",
    "from keras.layers import Conv2D, Input, ZeroPadding2D, BatchNormalization, Activation, MaxPooling2D, Flatten, Dense,Dropout\n",
    "from keras.optimizers import RMSprop\n",
    "from keras.models import Model, load_model\n",
    "from keras.callbacks import TensorBoard, ModelCheckpoint\n",
    "from sklearn.model_selection import train_test_split\n",
    "from sklearn.metrics import f1_score\n",
    "from sklearn.utils import shuffle\n",
    "from keras.metrics import Accuracy\n",
    "\n",
    "import imutils\n",
    "import cv2\n",
    "import numpy as np\n"
   ]
  },
  {
   "cell_type": "markdown",
   "id": "determined-barrel",
   "metadata": {},
   "source": [
    "## Data Augmentation"
   ]
  },
  {
   "cell_type": "code",
   "execution_count": 3,
   "id": "higher-french",
   "metadata": {},
   "outputs": [],
   "source": [
    "from keras.preprocessing.image import ImageDataGenerator,array_to_img,img_to_array,load_img\n",
    "import matplotlib as plt\n",
    "\n",
    "train_datagen=ImageDataGenerator(rotation_range=40, \n",
    "                                width_shift_range=.2, \n",
    "                                height_shift_range=.2, \n",
    "                                shear_range=.2, \n",
    "                                zoom_range=.2, \n",
    "                                horizontal_flip=True, \n",
    "                                fill_mode='nearest')\n",
    "\n",
    "test_datagen= ImageDataGenerator(rescale=1./255)"
   ]
  },
  {
   "cell_type": "code",
   "execution_count": 4,
   "id": "adequate-vault",
   "metadata": {},
   "outputs": [
    {
     "name": "stdout",
     "output_type": "stream",
     "text": [
      "Found 1314 images belonging to 2 classes.\n"
     ]
    }
   ],
   "source": [
    "# Importing Train data\n",
    "\n",
    "batch_size=10\n",
    "\n",
    "train_data=train_datagen.flow_from_directory('C:/Users/Joy/Documents/Project 10/train', \n",
    "                                             target_size=(150,150), \n",
    "                                             batch_size=batch_size, \n",
    "                                             class_mode='binary')"
   ]
  },
  {
   "cell_type": "code",
   "execution_count": 5,
   "id": "automatic-armstrong",
   "metadata": {},
   "outputs": [
    {
     "name": "stdout",
     "output_type": "stream",
     "text": [
      "Found 194 images belonging to 2 classes.\n"
     ]
    }
   ],
   "source": [
    "# Importing test data\n",
    "test_data=test_datagen.flow_from_directory('C:/Users/Joy/Documents/Project 10/test', \n",
    "                                           target_size=(150,150),\n",
    "                                           batch_size=batch_size, \n",
    "                                           class_mode='binary')"
   ]
  },
  {
   "cell_type": "markdown",
   "id": "lasting-banner",
   "metadata": {},
   "source": [
    "## CNN Model Design"
   ]
  },
  {
   "cell_type": "code",
   "execution_count": 6,
   "id": "blond-watson",
   "metadata": {},
   "outputs": [
    {
     "name": "stdout",
     "output_type": "stream",
     "text": [
      "Model: \"sequential\"\n",
      "_________________________________________________________________\n",
      "Layer (type)                 Output Shape              Param #   \n",
      "=================================================================\n",
      "conv2d (Conv2D)              (None, 148, 148, 100)     2800      \n",
      "_________________________________________________________________\n",
      "max_pooling2d (MaxPooling2D) (None, 74, 74, 100)       0         \n",
      "_________________________________________________________________\n",
      "conv2d_1 (Conv2D)            (None, 72, 72, 100)       90100     \n",
      "_________________________________________________________________\n",
      "max_pooling2d_1 (MaxPooling2 (None, 36, 36, 100)       0         \n",
      "_________________________________________________________________\n",
      "flatten (Flatten)            (None, 129600)            0         \n",
      "_________________________________________________________________\n",
      "dropout (Dropout)            (None, 129600)            0         \n",
      "_________________________________________________________________\n",
      "dense (Dense)                (None, 50)                6480050   \n",
      "_________________________________________________________________\n",
      "dense_1 (Dense)              (None, 2)                 102       \n",
      "=================================================================\n",
      "Total params: 6,573,052\n",
      "Trainable params: 6,573,052\n",
      "Non-trainable params: 0\n",
      "_________________________________________________________________\n"
     ]
    }
   ],
   "source": [
    "model = Sequential([\n",
    "    Conv2D(100, (3,3), activation='relu', input_shape=(150, 150, 3)),\n",
    "    MaxPooling2D(2,2),\n",
    "    \n",
    "    Conv2D(100, (3,3), activation='relu'),\n",
    "    MaxPooling2D(2,2),\n",
    "    \n",
    "    Flatten(),\n",
    "    Dropout(0.5),\n",
    "    Dense(50, activation='relu'),\n",
    "    Dense(2, activation='softmax')\n",
    "])\n",
    "\n",
    "model.summary()"
   ]
  },
  {
   "cell_type": "code",
   "execution_count": 7,
   "id": "stuck-ensemble",
   "metadata": {},
   "outputs": [],
   "source": [
    "# Compiling the model\n",
    "\n",
    "model.compile(optimizer='adam', loss='binary_crossentropy', metrics=['acc'])"
   ]
  },
  {
   "cell_type": "code",
   "execution_count": 8,
   "id": "necessary-visitor",
   "metadata": {},
   "outputs": [],
   "source": [
    "# checkpoints to pickout the best trained model with highest accuracy\n",
    "checkpoint = ModelCheckpoint('model2-{epoch:03d}.model',monitor='val_loss',\n",
    "                             verbose=0,save_best_only=True,mode='auto')"
   ]
  },
  {
   "cell_type": "code",
   "execution_count": 9,
   "id": "featured-nicaragua",
   "metadata": {},
   "outputs": [
    {
     "name": "stdout",
     "output_type": "stream",
     "text": [
      "Epoch 1/10\n",
      "5/5 [==============================] - 81s 16s/step - loss: 7.5279 - acc: 0.4600 - val_loss: 7.6664 - val_acc: 0.5250\n",
      "Epoch 2/10\n",
      "5/5 [==============================] - 91s 18s/step - loss: 7.6685 - acc: 0.5000 - val_loss: 7.6729 - val_acc: 0.4500\n",
      "Epoch 3/10\n",
      "5/5 [==============================] - 90s 18s/step - loss: 7.6703 - acc: 0.4800 - val_loss: 7.6664 - val_acc: 0.5250\n",
      "Epoch 4/10\n",
      "5/5 [==============================] - 89s 18s/step - loss: 7.6685 - acc: 0.5000 - val_loss: 7.6685 - val_acc: 0.5000\n",
      "Epoch 5/10\n",
      "5/5 [==============================] - 83s 17s/step - loss: 7.6580 - acc: 0.6200 - val_loss: 7.6729 - val_acc: 0.4500\n",
      "Epoch 6/10\n",
      "5/5 [==============================] - 62s 12s/step - loss: 7.6633 - acc: 0.5600 - val_loss: 7.6663 - val_acc: 0.5250\n",
      "Epoch 7/10\n",
      "5/5 [==============================] - 64s 13s/step - loss: 7.6721 - acc: 0.4600 - val_loss: 7.6707 - val_acc: 0.4750\n",
      "Epoch 8/10\n",
      "5/5 [==============================] - 63s 13s/step - loss: 7.6668 - acc: 0.5200 - val_loss: 7.6620 - val_acc: 0.5750\n",
      "Epoch 9/10\n",
      "5/5 [==============================] - 66s 13s/step - loss: 7.6598 - acc: 0.6000 - val_loss: 7.6773 - val_acc: 0.4000\n",
      "Epoch 10/10\n",
      "5/5 [==============================] - 60s 12s/step - loss: 7.6562 - acc: 0.6400 - val_loss: 7.6663 - val_acc: 0.5250\n"
     ]
    }
   ],
   "source": [
    "# Train the compiled moddel with data\n",
    "\n",
    "histroy=model.fit(train_data,\n",
    "                  steps_per_epoch=50//batch_size,\n",
    "                  epochs=10,\n",
    "                  validation_data=test_data,\n",
    "                  validation_steps=40//batch_size)"
   ]
  },
  {
   "cell_type": "markdown",
   "id": "amino-danger",
   "metadata": {},
   "source": [
    "# Save the trained model"
   ]
  },
  {
   "cell_type": "code",
   "execution_count": 14,
   "id": "cloudy-champion",
   "metadata": {},
   "outputs": [
    {
     "data": {
      "image/png": "[encoded data removed]",
      "text/plain": [
       "<Figure size 432x288 with 1 Axes>"
      ]
     },
     "metadata": {
      "needs_background": "light"
     },
     "output_type": "display_data"
    }
   ],
   "source": [
    "from matplotlib import pyplot as plt\n",
    "\n",
    "plt.plot(histroy.history['loss'],label='training loss')\n",
    "plt.plot(histroy.history['val_loss'],label='validation loss')\n",
    "plt.xlabel('# epochs')\n",
    "plt.ylabel('loss')\n",
    "plt.legend()\n",
    "plt.show()"
   ]
  },
  {
   "cell_type": "code",
   "execution_count": 16,
   "id": "invisible-facial",
   "metadata": {},
   "outputs": [],
   "source": [
    "# Save the trained model\n",
    "\n",
    "model.save('detection.h5')"
   ]
  },
  {
   "cell_type": "markdown",
   "id": "black-bahamas",
   "metadata": {},
   "source": [
    "# Loading the model for detection"
   ]
  },
  {
   "cell_type": "code",
   "execution_count": 17,
   "id": "amazing-aberdeen",
   "metadata": {},
   "outputs": [],
   "source": [
    "# import cv2\n",
    "# import numpy as np\n",
    "# from keras.models import load_model\n",
    "# import tensorflow as tf"
   ]
  },
  {
   "cell_type": "code",
   "execution_count": 18,
   "id": "lesbian-porter",
   "metadata": {},
   "outputs": [],
   "source": [
    "model = tf.keras.models.load_model('detection.h5')"
   ]
  },
  {
   "cell_type": "code",
   "execution_count": 19,
   "id": "dental-worthy",
   "metadata": {},
   "outputs": [],
   "source": [
    "# result label\n",
    "results={\n",
    "    0:'without mask',\n",
    "    1:'mask'\n",
    "}\n",
    "\n",
    "# rectangle overlay box color - red for without_mask, green for with_mask\n",
    "GR_dict={\n",
    "    0:(0,0,255),\n",
    "    1:(0,255,0)\n",
    "}\n",
    "\n",
    "# face marking rectangle base size\n",
    "rect_size = 4\n",
    "\n",
    "# capturing the video from default system camera\n",
    "cap = cv2.VideoCapture(0) \n",
    "\n",
    "#Object Detection pattern used to identify faces in an image or a real time video feed.\n",
    "haarcascade = cv2.CascadeClassifier('haarcascade_frontalface_default.xml')"
   ]
  },
  {
   "cell_type": "code",
   "execution_count": 20,
   "id": "painful-difference",
   "metadata": {},
   "outputs": [],
   "source": [
    "while True:\n",
    "    (rval, im) = cap.read()\n",
    "    im=cv2.flip(im,1,1) \n",
    "\n",
    "    \n",
    "    rerect_size = cv2.resize(im, (im.shape[1] // rect_size, im.shape[0] // rect_size))\n",
    "    faces = haarcascade.detectMultiScale(rerect_size)\n",
    "    for f in faces:\n",
    "        (x, y, w, h) = [v * rect_size for v in f] \n",
    "        \n",
    "        face_img = im[y:y+h, x:x+w]\n",
    "        rerect_sized=cv2.resize(face_img,(150,150))\n",
    "        normalized=rerect_sized/255.0\n",
    "        reshaped=np.reshape(normalized,(1,150,150,3))\n",
    "        reshaped = np.vstack([reshaped])\n",
    "        result=model.predict(reshaped)\n",
    "\n",
    "        \n",
    "        label=np.argmax(result,axis=1)[0]\n",
    "      \n",
    "        cv2.rectangle(im,(x,y),(x+w,y+h),GR_dict[label],2)\n",
    "        cv2.rectangle(im,(x,y-40),(x+w,y),GR_dict[label],-1)\n",
    "        cv2.putText(im, results[label], (x, y-10),cv2.FONT_HERSHEY_SIMPLEX,0.8,(255,255,255),2)\n",
    "\n",
    "    cv2.imshow('LIVE',   im)\n",
    "    key = cv2.waitKey(10)\n",
    "    \n",
    "    # press escape key to quit\n",
    "    if key == 27: \n",
    "        break\n",
    "\n",
    "cap.release()\n",
    "\n",
    "cv2.destroyAllWindows()"
   ]
  },
  {
   "cell_type": "code",
   "execution_count": null,
   "id": "diverse-costume",
   "metadata": {},
   "outputs": [],
   "source": []
  }
 ],
 "metadata": {
  "kernelspec": {
   "display_name": "Python 3",
   "language": "python",
   "name": "python3"
  },
  "language_info": {
   "codemirror_mode": {
    "name": "ipython",
    "version": 3
   },
   "file_extension": ".py",
   "mimetype": "text/x-python",
   "name": "python",
   "nbconvert_exporter": "python",
   "pygments_lexer": "ipython3",
   "version": "3.8.8"
  }
 },
 "nbformat": 4,
 "nbformat_minor": 5
}
