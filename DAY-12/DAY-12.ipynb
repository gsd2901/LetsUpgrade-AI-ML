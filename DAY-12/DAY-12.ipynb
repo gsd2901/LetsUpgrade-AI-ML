{
 "cells": [
  {
   "cell_type": "code",
   "execution_count": 20,
   "metadata": {},
   "outputs": [],
   "source": [
    "import pandas as pd \n",
    "from scipy.stats import pearsonr\n",
    "from scipy.stats import mannwhitneyu\n",
    "df = pd.read_csv(\"general_data.csv\")"
   ]
  },
  {
   "cell_type": "code",
   "execution_count": 21,
   "metadata": {},
   "outputs": [],
   "source": [
    "from sklearn import preprocessing \n",
    "le = preprocessing.LabelBinarizer()"
   ]
  },
  {
   "cell_type": "code",
   "execution_count": 23,
   "metadata": {},
   "outputs": [],
   "source": [
    "Attrition_yes = df.loc[df['Attrition'] == \"Yes\"]\n",
    "Attrition_no = df.loc[df['Attrition'] == \"No\"]"
   ]
  },
  {
   "cell_type": "code",
   "execution_count": 24,
   "metadata": {},
   "outputs": [
    {
     "data": {
      "text/plain": [
       "Index(['Age', 'Attrition', 'BusinessTravel', 'Department', 'DistanceFromHome',\n",
       "       'Education', 'EducationField', 'EmployeeCount', 'EmployeeID', 'Gender',\n",
       "       'JobLevel', 'JobRole', 'MaritalStatus', 'MonthlyIncome',\n",
       "       'NumCompaniesWorked', 'Over18', 'PercentSalaryHike', 'StandardHours',\n",
       "       'StockOptionLevel', 'TotalWorkingYears', 'TrainingTimesLastYear',\n",
       "       'YearsAtCompany', 'YearsSinceLastPromotion', 'YearsWithCurrManager'],\n",
       "      dtype='object')"
      ]
     },
     "execution_count": 24,
     "metadata": {},
     "output_type": "execute_result"
    }
   ],
   "source": [
    "df[\"Attrition\"] = le.fit_transform(df[\"Attrition\"])\n",
    "df.columns"
   ]
  },
  {
   "cell_type": "markdown",
   "metadata": {},
   "source": [
    "## Correlation between Attrition  and MonthlyIncome is Negative "
   ]
  },
  {
   "cell_type": "code",
   "execution_count": 25,
   "metadata": {},
   "outputs": [
    {
     "name": "stdout",
     "output_type": "stream",
     "text": [
      "-0.031176281698115007 0.03842748490600132\n"
     ]
    }
   ],
   "source": [
    "stats,p = pearsonr(df[\"Attrition\"],df[\"MonthlyIncome\"])\n",
    "print(stats,p)"
   ]
  },
  {
   "cell_type": "markdown",
   "metadata": {},
   "source": [
    "## Correlation is Attrition is yes and DistanceFromHome is Negative "
   ]
  },
  {
   "cell_type": "code",
   "execution_count": 26,
   "metadata": {},
   "outputs": [
    {
     "name": "stdout",
     "output_type": "stream",
     "text": [
      "1312110.0 0.4629185205822659\n"
     ]
    }
   ],
   "source": [
    "stats,p = mannwhitneyu(Attrition_yes.DistanceFromHome,Attrition_no.DistanceFromHome)\n",
    "print(stats,p)"
   ]
  },
  {
   "cell_type": "markdown",
   "metadata": {},
   "source": [
    "## Correlation is Attrition is yes and Education is Positive "
   ]
  },
  {
   "cell_type": "code",
   "execution_count": 27,
   "metadata": {},
   "outputs": [
    {
     "name": "stdout",
     "output_type": "stream",
     "text": [
      "-0.015111167710968713 0.3157293177118575\n"
     ]
    }
   ],
   "source": [
    "stats,p = pearsonr(df[\"Attrition\"],df[\"Education\"])\n",
    "print(stats,p)"
   ]
  },
  {
   "cell_type": "markdown",
   "metadata": {},
   "source": [
    "## Correlation is Attrition is yes and EmployeeCount is NOT VALID "
   ]
  },
  {
   "cell_type": "code",
   "execution_count": 28,
   "metadata": {},
   "outputs": [
    {
     "name": "stdout",
     "output_type": "stream",
     "text": [
      "nan nan\n"
     ]
    },
    {
     "name": "stderr",
     "output_type": "stream",
     "text": [
      "C:\\Users\\surygoll\\AppData\\Local\\Continuum\\anaconda3\\lib\\site-packages\\scipy\\stats\\stats.py:3399: PearsonRConstantInputWarning: An input array is constant; the correlation coefficent is not defined.\n",
      "  warnings.warn(PearsonRConstantInputWarning())\n"
     ]
    }
   ],
   "source": [
    "stats,p = pearsonr(df[\"Attrition\"],df[\"EmployeeCount\"].fillna(0))\n",
    "print(stats,p)"
   ]
  },
  {
   "cell_type": "markdown",
   "metadata": {},
   "source": [
    "## Correlation is Attrition is yes and EmployeeID is Positive "
   ]
  },
  {
   "cell_type": "code",
   "execution_count": 29,
   "metadata": {},
   "outputs": [
    {
     "name": "stdout",
     "output_type": "stream",
     "text": [
      "-0.004729122995066087 0.7535487401886252\n"
     ]
    }
   ],
   "source": [
    "stats,p = pearsonr(df[\"Attrition\"],df[\"EmployeeID\"])\n",
    "print(stats,p)"
   ]
  },
  {
   "cell_type": "markdown",
   "metadata": {},
   "source": [
    "## Correlation is Attrition is yes and JobLevel is Negative "
   ]
  },
  {
   "cell_type": "code",
   "execution_count": 31,
   "metadata": {},
   "outputs": [
    {
     "name": "stdout",
     "output_type": "stream",
     "text": [
      "1309131.0 0.4211326530832555\n"
     ]
    }
   ],
   "source": [
    "stats,p = mannwhitneyu(Attrition_yes.JobLevel,Attrition_no.JobLevel)\n",
    "print(stats,p)"
   ]
  },
  {
   "cell_type": "markdown",
   "metadata": {},
   "source": [
    "## Correlation is Attrition is yes and MonthlyIncome is Positive "
   ]
  },
  {
   "cell_type": "code",
   "execution_count": 33,
   "metadata": {},
   "outputs": [
    {
     "name": "stdout",
     "output_type": "stream",
     "text": [
      "1264900.5 0.053577283839938566\n"
     ]
    }
   ],
   "source": [
    "stats,p = mannwhitneyu(Attrition_yes.MonthlyIncome,Attrition_no.MonthlyIncome)\n",
    "print(stats,p)"
   ]
  },
  {
   "cell_type": "markdown",
   "metadata": {},
   "source": [
    "## Correlation is Attrition is yes and NumCompaniesWorked is Negative "
   ]
  },
  {
   "cell_type": "code",
   "execution_count": 34,
   "metadata": {},
   "outputs": [
    {
     "name": "stdout",
     "output_type": "stream",
     "text": [
      "0.04150332971190174 0.00584142424757884\n"
     ]
    }
   ],
   "source": [
    "stats,p = pearsonr(df[\"Attrition\"],df[\"NumCompaniesWorked\"].fillna(0))\n",
    "print(stats,p)"
   ]
  },
  {
   "cell_type": "markdown",
   "metadata": {},
   "source": [
    "## Correlation is Attrition is yes and PercentSalaryHike is Positive"
   ]
  },
  {
   "cell_type": "code",
   "execution_count": 19,
   "metadata": {},
   "outputs": [
    {
     "name": "stdout",
     "output_type": "stream",
     "text": [
      "0.03253259489105349 0.030743386433355353\n"
     ]
    }
   ],
   "source": [
    "stats,p = pearsonr(df[\"Attrition\"],df[\"PercentSalaryHike\"].fillna(0))\n",
    "print(stats,p)"
   ]
  },
  {
   "cell_type": "markdown",
   "metadata": {},
   "source": [
    "## Correlation is Attrition is yes and StockOptionLevel is Negative"
   ]
  },
  {
   "cell_type": "code",
   "execution_count": 35,
   "metadata": {},
   "outputs": [
    {
     "name": "stdout",
     "output_type": "stream",
     "text": [
      "-0.006838852403261513 0.6498072937475723\n"
     ]
    }
   ],
   "source": [
    "stats,p = pearsonr(df[\"Attrition\"],df[\"StockOptionLevel\"].fillna(0))\n",
    "print(stats,p)"
   ]
  },
  {
   "cell_type": "markdown",
   "metadata": {},
   "source": [
    "## Correlation is Attrition is yes and TotalWorkingYears is Negative"
   ]
  },
  {
   "cell_type": "code",
   "execution_count": 23,
   "metadata": {},
   "outputs": [
    {
     "name": "stdout",
     "output_type": "stream",
     "text": [
      "-0.17023794049182428 4.959687383334802e-30\n"
     ]
    }
   ],
   "source": [
    "stats,p = pearsonr(df[\"Attrition\"],df[\"TotalWorkingYears\"].fillna(0))\n",
    "print(stats,p)"
   ]
  },
  {
   "cell_type": "markdown",
   "metadata": {},
   "source": [
    "## Correlation is Attrition is yes and TrainingTimesLastYear is Negative"
   ]
  },
  {
   "cell_type": "code",
   "execution_count": 24,
   "metadata": {},
   "outputs": [
    {
     "name": "stdout",
     "output_type": "stream",
     "text": [
      "-0.049430576244255 0.0010247061915365072\n"
     ]
    }
   ],
   "source": [
    "stats,p = pearsonr(df[\"Attrition\"],df[\"TrainingTimesLastYear\"].fillna(0))\n",
    "print(stats,p)"
   ]
  },
  {
   "cell_type": "markdown",
   "metadata": {},
   "source": [
    "## Correlation is Attrition is yes and YearsAtCompany is Negative"
   ]
  },
  {
   "cell_type": "code",
   "execution_count": 26,
   "metadata": {},
   "outputs": [
    {
     "name": "stdout",
     "output_type": "stream",
     "text": [
      "-0.1343922139899772 3.1638831224877484e-19\n"
     ]
    }
   ],
   "source": [
    "stats,p = pearsonr(df[\"Attrition\"],df[\"YearsAtCompany\"].fillna(0))\n",
    "print(stats,p)"
   ]
  },
  {
   "cell_type": "markdown",
   "metadata": {},
   "source": [
    "## Correlation is Attrition is yes and YearsSinceLastPromotion is Negative"
   ]
  },
  {
   "cell_type": "code",
   "execution_count": 27,
   "metadata": {},
   "outputs": [
    {
     "name": "stdout",
     "output_type": "stream",
     "text": [
      "-0.03301877514258434 0.028330336189396753\n"
     ]
    }
   ],
   "source": [
    "stats,p = pearsonr(df[\"Attrition\"],df[\"YearsSinceLastPromotion\"].fillna(0))\n",
    "print(stats,p)"
   ]
  },
  {
   "cell_type": "markdown",
   "metadata": {},
   "source": [
    "## Correlation is Attrition is yes and YearsWithCurrManager is Negative"
   ]
  },
  {
   "cell_type": "code",
   "execution_count": 29,
   "metadata": {},
   "outputs": [
    {
     "name": "stdout",
     "output_type": "stream",
     "text": [
      "-0.15619931590162847 1.7339322652896276e-25\n"
     ]
    }
   ],
   "source": [
    "stats,p = pearsonr(df[\"Attrition\"],df[\"YearsWithCurrManager\"].fillna(0))\n",
    "print(stats,p)"
   ]
  },
  {
   "cell_type": "code",
   "execution_count": 36,
   "metadata": {},
   "outputs": [],
   "source": [
    "from scipy.stats import chi2_contingency"
   ]
  },
  {
   "cell_type": "markdown",
   "metadata": {},
   "source": [
    "## No dependency Between Atrrition and Gender"
   ]
  },
  {
   "cell_type": "code",
   "execution_count": 37,
   "metadata": {},
   "outputs": [
    {
     "data": {
      "text/html": [
       "<div>\n",
       "<style scoped>\n",
       "    .dataframe tbody tr th:only-of-type {\n",
       "        vertical-align: middle;\n",
       "    }\n",
       "\n",
       "    .dataframe tbody tr th {\n",
       "        vertical-align: top;\n",
       "    }\n",
       "\n",
       "    .dataframe thead th {\n",
       "        text-align: right;\n",
       "    }\n",
       "</style>\n",
       "<table border=\"1\" class=\"dataframe\">\n",
       "  <thead>\n",
       "    <tr style=\"text-align: right;\">\n",
       "      <th>Gender</th>\n",
       "      <th>Female</th>\n",
       "      <th>Male</th>\n",
       "    </tr>\n",
       "    <tr>\n",
       "      <th>Attrition</th>\n",
       "      <th></th>\n",
       "      <th></th>\n",
       "    </tr>\n",
       "  </thead>\n",
       "  <tbody>\n",
       "    <tr>\n",
       "      <td>0</td>\n",
       "      <td>1494</td>\n",
       "      <td>2205</td>\n",
       "    </tr>\n",
       "    <tr>\n",
       "      <td>1</td>\n",
       "      <td>270</td>\n",
       "      <td>441</td>\n",
       "    </tr>\n",
       "  </tbody>\n",
       "</table>\n",
       "</div>"
      ],
      "text/plain": [
       "Gender     Female  Male\n",
       "Attrition              \n",
       "0            1494  2205\n",
       "1             270   441"
      ]
     },
     "execution_count": 37,
     "metadata": {},
     "output_type": "execute_result"
    }
   ],
   "source": [
    "chitable = pd.crosstab(df.Attrition,df.Gender)\n",
    "chitable"
   ]
  },
  {
   "cell_type": "markdown",
   "metadata": {},
   "source": [
    "## No dependency Between Atrrition and MaritalStatus"
   ]
  },
  {
   "cell_type": "code",
   "execution_count": 38,
   "metadata": {},
   "outputs": [
    {
     "data": {
      "text/html": [
       "<div>\n",
       "<style scoped>\n",
       "    .dataframe tbody tr th:only-of-type {\n",
       "        vertical-align: middle;\n",
       "    }\n",
       "\n",
       "    .dataframe tbody tr th {\n",
       "        vertical-align: top;\n",
       "    }\n",
       "\n",
       "    .dataframe thead th {\n",
       "        text-align: right;\n",
       "    }\n",
       "</style>\n",
       "<table border=\"1\" class=\"dataframe\">\n",
       "  <thead>\n",
       "    <tr style=\"text-align: right;\">\n",
       "      <th>MaritalStatus</th>\n",
       "      <th>Divorced</th>\n",
       "      <th>Married</th>\n",
       "      <th>Single</th>\n",
       "    </tr>\n",
       "    <tr>\n",
       "      <th>Attrition</th>\n",
       "      <th></th>\n",
       "      <th></th>\n",
       "      <th></th>\n",
       "    </tr>\n",
       "  </thead>\n",
       "  <tbody>\n",
       "    <tr>\n",
       "      <td>0</td>\n",
       "      <td>882</td>\n",
       "      <td>1767</td>\n",
       "      <td>1050</td>\n",
       "    </tr>\n",
       "    <tr>\n",
       "      <td>1</td>\n",
       "      <td>99</td>\n",
       "      <td>252</td>\n",
       "      <td>360</td>\n",
       "    </tr>\n",
       "  </tbody>\n",
       "</table>\n",
       "</div>"
      ],
      "text/plain": [
       "MaritalStatus  Divorced  Married  Single\n",
       "Attrition                               \n",
       "0                   882     1767    1050\n",
       "1                    99      252     360"
      ]
     },
     "execution_count": 38,
     "metadata": {},
     "output_type": "execute_result"
    }
   ],
   "source": [
    "chitable = pd.crosstab(df.Attrition,df.MaritalStatus)\n",
    "chitable"
   ]
  },
  {
   "cell_type": "code",
   "execution_count": 39,
   "metadata": {},
   "outputs": [
    {
     "name": "stdout",
     "output_type": "stream",
     "text": [
      "138.49102962254608 8.45385940605786e-31\n"
     ]
    }
   ],
   "source": [
    "stats,p,dof,expected = chi2_contingency(chitable)\n",
    "print(stats,p)"
   ]
  },
  {
   "cell_type": "code",
   "execution_count": null,
   "metadata": {},
   "outputs": [],
   "source": []
  }
 ],
 "metadata": {
  "kernelspec": {
   "display_name": "Python 3",
   "language": "python",
   "name": "python3"
  },
  "language_info": {
   "codemirror_mode": {
    "name": "ipython",
    "version": 3
   },
   "file_extension": ".py",
   "mimetype": "text/x-python",
   "name": "python",
   "nbconvert_exporter": "python",
   "pygments_lexer": "ipython3",
   "version": "3.7.4"
  }
 },
 "nbformat": 4,
 "nbformat_minor": 2
}
