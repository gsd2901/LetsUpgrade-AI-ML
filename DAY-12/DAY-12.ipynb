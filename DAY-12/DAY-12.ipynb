{
 "cells": [
  {
   "cell_type": "code",
   "execution_count": 2,
   "metadata": {},
   "outputs": [],
   "source": [
    "import pandas as pd \n",
    "from scipy.stats import pearsonr\n",
    "df = pd.read_csv(\"general_data.csv\")"
   ]
  },
  {
   "cell_type": "code",
   "execution_count": 3,
   "metadata": {},
   "outputs": [
    {
     "data": {
      "text/html": [
       "<div>\n",
       "<style scoped>\n",
       "    .dataframe tbody tr th:only-of-type {\n",
       "        vertical-align: middle;\n",
       "    }\n",
       "\n",
       "    .dataframe tbody tr th {\n",
       "        vertical-align: top;\n",
       "    }\n",
       "\n",
       "    .dataframe thead th {\n",
       "        text-align: right;\n",
       "    }\n",
       "</style>\n",
       "<table border=\"1\" class=\"dataframe\">\n",
       "  <thead>\n",
       "    <tr style=\"text-align: right;\">\n",
       "      <th></th>\n",
       "      <th>Age</th>\n",
       "      <th>Attrition</th>\n",
       "      <th>BusinessTravel</th>\n",
       "      <th>Department</th>\n",
       "      <th>DistanceFromHome</th>\n",
       "      <th>Education</th>\n",
       "      <th>EducationField</th>\n",
       "      <th>EmployeeCount</th>\n",
       "      <th>EmployeeID</th>\n",
       "      <th>Gender</th>\n",
       "      <th>...</th>\n",
       "      <th>PercentSalaryHike</th>\n",
       "      <th>StandardHours</th>\n",
       "      <th>StockOptionLevel</th>\n",
       "      <th>TotalWorkingYears</th>\n",
       "      <th>TrainingTimesLastYear</th>\n",
       "      <th>YearsAtCompany</th>\n",
       "      <th>YearsSinceLastPromotion</th>\n",
       "      <th>YearsWithCurrManager</th>\n",
       "      <th>No</th>\n",
       "      <th>Yes</th>\n",
       "    </tr>\n",
       "  </thead>\n",
       "  <tbody>\n",
       "    <tr>\n",
       "      <td>0</td>\n",
       "      <td>51</td>\n",
       "      <td>No</td>\n",
       "      <td>Travel_Rarely</td>\n",
       "      <td>Sales</td>\n",
       "      <td>6</td>\n",
       "      <td>2</td>\n",
       "      <td>Life Sciences</td>\n",
       "      <td>1</td>\n",
       "      <td>1</td>\n",
       "      <td>Female</td>\n",
       "      <td>...</td>\n",
       "      <td>11</td>\n",
       "      <td>8</td>\n",
       "      <td>0</td>\n",
       "      <td>1.0</td>\n",
       "      <td>6</td>\n",
       "      <td>1</td>\n",
       "      <td>0</td>\n",
       "      <td>0</td>\n",
       "      <td>1</td>\n",
       "      <td>0</td>\n",
       "    </tr>\n",
       "    <tr>\n",
       "      <td>1</td>\n",
       "      <td>31</td>\n",
       "      <td>Yes</td>\n",
       "      <td>Travel_Frequently</td>\n",
       "      <td>Research &amp; Development</td>\n",
       "      <td>10</td>\n",
       "      <td>1</td>\n",
       "      <td>Life Sciences</td>\n",
       "      <td>1</td>\n",
       "      <td>2</td>\n",
       "      <td>Female</td>\n",
       "      <td>...</td>\n",
       "      <td>23</td>\n",
       "      <td>8</td>\n",
       "      <td>1</td>\n",
       "      <td>6.0</td>\n",
       "      <td>3</td>\n",
       "      <td>5</td>\n",
       "      <td>1</td>\n",
       "      <td>4</td>\n",
       "      <td>0</td>\n",
       "      <td>1</td>\n",
       "    </tr>\n",
       "    <tr>\n",
       "      <td>2</td>\n",
       "      <td>32</td>\n",
       "      <td>No</td>\n",
       "      <td>Travel_Frequently</td>\n",
       "      <td>Research &amp; Development</td>\n",
       "      <td>17</td>\n",
       "      <td>4</td>\n",
       "      <td>Other</td>\n",
       "      <td>1</td>\n",
       "      <td>3</td>\n",
       "      <td>Male</td>\n",
       "      <td>...</td>\n",
       "      <td>15</td>\n",
       "      <td>8</td>\n",
       "      <td>3</td>\n",
       "      <td>5.0</td>\n",
       "      <td>2</td>\n",
       "      <td>5</td>\n",
       "      <td>0</td>\n",
       "      <td>3</td>\n",
       "      <td>1</td>\n",
       "      <td>0</td>\n",
       "    </tr>\n",
       "    <tr>\n",
       "      <td>3</td>\n",
       "      <td>38</td>\n",
       "      <td>No</td>\n",
       "      <td>Non-Travel</td>\n",
       "      <td>Research &amp; Development</td>\n",
       "      <td>2</td>\n",
       "      <td>5</td>\n",
       "      <td>Life Sciences</td>\n",
       "      <td>1</td>\n",
       "      <td>4</td>\n",
       "      <td>Male</td>\n",
       "      <td>...</td>\n",
       "      <td>11</td>\n",
       "      <td>8</td>\n",
       "      <td>3</td>\n",
       "      <td>13.0</td>\n",
       "      <td>5</td>\n",
       "      <td>8</td>\n",
       "      <td>7</td>\n",
       "      <td>5</td>\n",
       "      <td>1</td>\n",
       "      <td>0</td>\n",
       "    </tr>\n",
       "    <tr>\n",
       "      <td>4</td>\n",
       "      <td>32</td>\n",
       "      <td>No</td>\n",
       "      <td>Travel_Rarely</td>\n",
       "      <td>Research &amp; Development</td>\n",
       "      <td>10</td>\n",
       "      <td>1</td>\n",
       "      <td>Medical</td>\n",
       "      <td>1</td>\n",
       "      <td>5</td>\n",
       "      <td>Male</td>\n",
       "      <td>...</td>\n",
       "      <td>12</td>\n",
       "      <td>8</td>\n",
       "      <td>2</td>\n",
       "      <td>9.0</td>\n",
       "      <td>2</td>\n",
       "      <td>6</td>\n",
       "      <td>0</td>\n",
       "      <td>4</td>\n",
       "      <td>1</td>\n",
       "      <td>0</td>\n",
       "    </tr>\n",
       "  </tbody>\n",
       "</table>\n",
       "<p>5 rows × 26 columns</p>\n",
       "</div>"
      ],
      "text/plain": [
       "   Age Attrition     BusinessTravel              Department  DistanceFromHome  \\\n",
       "0   51        No      Travel_Rarely                   Sales                 6   \n",
       "1   31       Yes  Travel_Frequently  Research & Development                10   \n",
       "2   32        No  Travel_Frequently  Research & Development                17   \n",
       "3   38        No         Non-Travel  Research & Development                 2   \n",
       "4   32        No      Travel_Rarely  Research & Development                10   \n",
       "\n",
       "   Education EducationField  EmployeeCount  EmployeeID  Gender  ...  \\\n",
       "0          2  Life Sciences              1           1  Female  ...   \n",
       "1          1  Life Sciences              1           2  Female  ...   \n",
       "2          4          Other              1           3    Male  ...   \n",
       "3          5  Life Sciences              1           4    Male  ...   \n",
       "4          1        Medical              1           5    Male  ...   \n",
       "\n",
       "   PercentSalaryHike StandardHours StockOptionLevel  TotalWorkingYears  \\\n",
       "0                 11             8                0                1.0   \n",
       "1                 23             8                1                6.0   \n",
       "2                 15             8                3                5.0   \n",
       "3                 11             8                3               13.0   \n",
       "4                 12             8                2                9.0   \n",
       "\n",
       "   TrainingTimesLastYear YearsAtCompany  YearsSinceLastPromotion  \\\n",
       "0                      6              1                        0   \n",
       "1                      3              5                        1   \n",
       "2                      2              5                        0   \n",
       "3                      5              8                        7   \n",
       "4                      2              6                        0   \n",
       "\n",
       "   YearsWithCurrManager  No  Yes  \n",
       "0                     0   1    0  \n",
       "1                     4   0    1  \n",
       "2                     3   1    0  \n",
       "3                     5   1    0  \n",
       "4                     4   1    0  \n",
       "\n",
       "[5 rows x 26 columns]"
      ]
     },
     "execution_count": 3,
     "metadata": {},
     "output_type": "execute_result"
    }
   ],
   "source": [
    "dumm=pd.get_dummies(df[\"Attrition\"])\n",
    "df = pd.concat([df,dumm],axis=1)\n",
    "df.head()"
   ]
  },
  {
   "cell_type": "code",
   "execution_count": 6,
   "metadata": {},
   "outputs": [
    {
     "data": {
      "text/html": [
       "<div>\n",
       "<style scoped>\n",
       "    .dataframe tbody tr th:only-of-type {\n",
       "        vertical-align: middle;\n",
       "    }\n",
       "\n",
       "    .dataframe tbody tr th {\n",
       "        vertical-align: top;\n",
       "    }\n",
       "\n",
       "    .dataframe thead th {\n",
       "        text-align: right;\n",
       "    }\n",
       "</style>\n",
       "<table border=\"1\" class=\"dataframe\">\n",
       "  <thead>\n",
       "    <tr style=\"text-align: right;\">\n",
       "      <th></th>\n",
       "      <th>Age</th>\n",
       "      <th>DistanceFromHome</th>\n",
       "      <th>Education</th>\n",
       "      <th>EmployeeCount</th>\n",
       "      <th>EmployeeID</th>\n",
       "      <th>JobLevel</th>\n",
       "      <th>MonthlyIncome</th>\n",
       "      <th>NumCompaniesWorked</th>\n",
       "      <th>PercentSalaryHike</th>\n",
       "      <th>StandardHours</th>\n",
       "      <th>StockOptionLevel</th>\n",
       "      <th>TotalWorkingYears</th>\n",
       "      <th>TrainingTimesLastYear</th>\n",
       "      <th>YearsAtCompany</th>\n",
       "      <th>YearsSinceLastPromotion</th>\n",
       "      <th>YearsWithCurrManager</th>\n",
       "      <th>No</th>\n",
       "      <th>Yes</th>\n",
       "    </tr>\n",
       "  </thead>\n",
       "  <tbody>\n",
       "    <tr>\n",
       "      <td>Age</td>\n",
       "      <td>1.000000</td>\n",
       "      <td>0.006963</td>\n",
       "      <td>-0.035706</td>\n",
       "      <td>NaN</td>\n",
       "      <td>0.008649</td>\n",
       "      <td>-0.002884</td>\n",
       "      <td>-0.044314</td>\n",
       "      <td>0.299243</td>\n",
       "      <td>-0.033137</td>\n",
       "      <td>NaN</td>\n",
       "      <td>-0.031753</td>\n",
       "      <td>0.680661</td>\n",
       "      <td>-0.027308</td>\n",
       "      <td>0.311309</td>\n",
       "      <td>0.216513</td>\n",
       "      <td>0.202089</td>\n",
       "      <td>0.159205</td>\n",
       "      <td>-0.159205</td>\n",
       "    </tr>\n",
       "    <tr>\n",
       "      <td>DistanceFromHome</td>\n",
       "      <td>0.006963</td>\n",
       "      <td>1.000000</td>\n",
       "      <td>-0.008638</td>\n",
       "      <td>NaN</td>\n",
       "      <td>-0.001097</td>\n",
       "      <td>-0.037329</td>\n",
       "      <td>-0.021607</td>\n",
       "      <td>-0.013843</td>\n",
       "      <td>0.038125</td>\n",
       "      <td>NaN</td>\n",
       "      <td>0.011169</td>\n",
       "      <td>0.009374</td>\n",
       "      <td>-0.009001</td>\n",
       "      <td>0.031684</td>\n",
       "      <td>0.002290</td>\n",
       "      <td>0.021584</td>\n",
       "      <td>0.009730</td>\n",
       "      <td>-0.009730</td>\n",
       "    </tr>\n",
       "    <tr>\n",
       "      <td>Education</td>\n",
       "      <td>-0.035706</td>\n",
       "      <td>-0.008638</td>\n",
       "      <td>1.000000</td>\n",
       "      <td>NaN</td>\n",
       "      <td>-0.009680</td>\n",
       "      <td>0.045746</td>\n",
       "      <td>0.006410</td>\n",
       "      <td>-0.016250</td>\n",
       "      <td>-0.040531</td>\n",
       "      <td>NaN</td>\n",
       "      <td>0.001261</td>\n",
       "      <td>-0.010717</td>\n",
       "      <td>0.010472</td>\n",
       "      <td>0.006080</td>\n",
       "      <td>0.022490</td>\n",
       "      <td>0.005358</td>\n",
       "      <td>0.015111</td>\n",
       "      <td>-0.015111</td>\n",
       "    </tr>\n",
       "    <tr>\n",
       "      <td>EmployeeCount</td>\n",
       "      <td>NaN</td>\n",
       "      <td>NaN</td>\n",
       "      <td>NaN</td>\n",
       "      <td>NaN</td>\n",
       "      <td>NaN</td>\n",
       "      <td>NaN</td>\n",
       "      <td>NaN</td>\n",
       "      <td>NaN</td>\n",
       "      <td>NaN</td>\n",
       "      <td>NaN</td>\n",
       "      <td>NaN</td>\n",
       "      <td>NaN</td>\n",
       "      <td>NaN</td>\n",
       "      <td>NaN</td>\n",
       "      <td>NaN</td>\n",
       "      <td>NaN</td>\n",
       "      <td>NaN</td>\n",
       "      <td>NaN</td>\n",
       "    </tr>\n",
       "    <tr>\n",
       "      <td>EmployeeID</td>\n",
       "      <td>0.008649</td>\n",
       "      <td>-0.001097</td>\n",
       "      <td>-0.009680</td>\n",
       "      <td>NaN</td>\n",
       "      <td>1.000000</td>\n",
       "      <td>-0.003303</td>\n",
       "      <td>0.007338</td>\n",
       "      <td>-0.001117</td>\n",
       "      <td>-0.004456</td>\n",
       "      <td>NaN</td>\n",
       "      <td>-0.014254</td>\n",
       "      <td>-0.001063</td>\n",
       "      <td>-0.010191</td>\n",
       "      <td>0.004086</td>\n",
       "      <td>0.000256</td>\n",
       "      <td>0.008579</td>\n",
       "      <td>0.004729</td>\n",
       "      <td>-0.004729</td>\n",
       "    </tr>\n",
       "    <tr>\n",
       "      <td>JobLevel</td>\n",
       "      <td>-0.002884</td>\n",
       "      <td>-0.037329</td>\n",
       "      <td>0.045746</td>\n",
       "      <td>NaN</td>\n",
       "      <td>-0.003303</td>\n",
       "      <td>1.000000</td>\n",
       "      <td>0.047316</td>\n",
       "      <td>-0.009875</td>\n",
       "      <td>0.010973</td>\n",
       "      <td>NaN</td>\n",
       "      <td>0.000993</td>\n",
       "      <td>-0.036957</td>\n",
       "      <td>-0.032500</td>\n",
       "      <td>-0.064219</td>\n",
       "      <td>-0.060811</td>\n",
       "      <td>-0.055251</td>\n",
       "      <td>0.010290</td>\n",
       "      <td>-0.010290</td>\n",
       "    </tr>\n",
       "    <tr>\n",
       "      <td>MonthlyIncome</td>\n",
       "      <td>-0.044314</td>\n",
       "      <td>-0.021607</td>\n",
       "      <td>0.006410</td>\n",
       "      <td>NaN</td>\n",
       "      <td>0.007338</td>\n",
       "      <td>0.047316</td>\n",
       "      <td>1.000000</td>\n",
       "      <td>-0.020726</td>\n",
       "      <td>0.004325</td>\n",
       "      <td>NaN</td>\n",
       "      <td>0.026930</td>\n",
       "      <td>-0.033787</td>\n",
       "      <td>0.050112</td>\n",
       "      <td>0.000995</td>\n",
       "      <td>0.065219</td>\n",
       "      <td>0.024304</td>\n",
       "      <td>0.031176</td>\n",
       "      <td>-0.031176</td>\n",
       "    </tr>\n",
       "    <tr>\n",
       "      <td>NumCompaniesWorked</td>\n",
       "      <td>0.299243</td>\n",
       "      <td>-0.013843</td>\n",
       "      <td>-0.016250</td>\n",
       "      <td>NaN</td>\n",
       "      <td>-0.001117</td>\n",
       "      <td>-0.009875</td>\n",
       "      <td>-0.020726</td>\n",
       "      <td>1.000000</td>\n",
       "      <td>0.030860</td>\n",
       "      <td>NaN</td>\n",
       "      <td>0.017163</td>\n",
       "      <td>0.238807</td>\n",
       "      <td>-0.032286</td>\n",
       "      <td>-0.117959</td>\n",
       "      <td>-0.036656</td>\n",
       "      <td>-0.109667</td>\n",
       "      <td>-0.042345</td>\n",
       "      <td>0.042345</td>\n",
       "    </tr>\n",
       "    <tr>\n",
       "      <td>PercentSalaryHike</td>\n",
       "      <td>-0.033137</td>\n",
       "      <td>0.038125</td>\n",
       "      <td>-0.040531</td>\n",
       "      <td>NaN</td>\n",
       "      <td>-0.004456</td>\n",
       "      <td>0.010973</td>\n",
       "      <td>0.004325</td>\n",
       "      <td>0.030860</td>\n",
       "      <td>1.000000</td>\n",
       "      <td>NaN</td>\n",
       "      <td>0.012548</td>\n",
       "      <td>-0.018736</td>\n",
       "      <td>-0.037392</td>\n",
       "      <td>-0.029707</td>\n",
       "      <td>-0.029542</td>\n",
       "      <td>-0.040864</td>\n",
       "      <td>-0.032533</td>\n",
       "      <td>0.032533</td>\n",
       "    </tr>\n",
       "    <tr>\n",
       "      <td>StandardHours</td>\n",
       "      <td>NaN</td>\n",
       "      <td>NaN</td>\n",
       "      <td>NaN</td>\n",
       "      <td>NaN</td>\n",
       "      <td>NaN</td>\n",
       "      <td>NaN</td>\n",
       "      <td>NaN</td>\n",
       "      <td>NaN</td>\n",
       "      <td>NaN</td>\n",
       "      <td>NaN</td>\n",
       "      <td>NaN</td>\n",
       "      <td>NaN</td>\n",
       "      <td>NaN</td>\n",
       "      <td>NaN</td>\n",
       "      <td>NaN</td>\n",
       "      <td>NaN</td>\n",
       "      <td>NaN</td>\n",
       "      <td>NaN</td>\n",
       "    </tr>\n",
       "    <tr>\n",
       "      <td>StockOptionLevel</td>\n",
       "      <td>-0.031753</td>\n",
       "      <td>0.011169</td>\n",
       "      <td>0.001261</td>\n",
       "      <td>NaN</td>\n",
       "      <td>-0.014254</td>\n",
       "      <td>0.000993</td>\n",
       "      <td>0.026930</td>\n",
       "      <td>0.017163</td>\n",
       "      <td>0.012548</td>\n",
       "      <td>NaN</td>\n",
       "      <td>1.000000</td>\n",
       "      <td>0.002694</td>\n",
       "      <td>-0.069902</td>\n",
       "      <td>0.007886</td>\n",
       "      <td>0.019063</td>\n",
       "      <td>0.017757</td>\n",
       "      <td>0.006839</td>\n",
       "      <td>-0.006839</td>\n",
       "    </tr>\n",
       "    <tr>\n",
       "      <td>TotalWorkingYears</td>\n",
       "      <td>0.680661</td>\n",
       "      <td>0.009374</td>\n",
       "      <td>-0.010717</td>\n",
       "      <td>NaN</td>\n",
       "      <td>-0.001063</td>\n",
       "      <td>-0.036957</td>\n",
       "      <td>-0.033787</td>\n",
       "      <td>0.238807</td>\n",
       "      <td>-0.018736</td>\n",
       "      <td>NaN</td>\n",
       "      <td>0.002694</td>\n",
       "      <td>1.000000</td>\n",
       "      <td>-0.040762</td>\n",
       "      <td>0.627703</td>\n",
       "      <td>0.404444</td>\n",
       "      <td>0.458800</td>\n",
       "      <td>0.170338</td>\n",
       "      <td>-0.170338</td>\n",
       "    </tr>\n",
       "    <tr>\n",
       "      <td>TrainingTimesLastYear</td>\n",
       "      <td>-0.027308</td>\n",
       "      <td>-0.009001</td>\n",
       "      <td>0.010472</td>\n",
       "      <td>NaN</td>\n",
       "      <td>-0.010191</td>\n",
       "      <td>-0.032500</td>\n",
       "      <td>0.050112</td>\n",
       "      <td>-0.032286</td>\n",
       "      <td>-0.037392</td>\n",
       "      <td>NaN</td>\n",
       "      <td>-0.069902</td>\n",
       "      <td>-0.040762</td>\n",
       "      <td>1.000000</td>\n",
       "      <td>-0.007894</td>\n",
       "      <td>0.016121</td>\n",
       "      <td>-0.013270</td>\n",
       "      <td>0.049431</td>\n",
       "      <td>-0.049431</td>\n",
       "    </tr>\n",
       "    <tr>\n",
       "      <td>YearsAtCompany</td>\n",
       "      <td>0.311309</td>\n",
       "      <td>0.031684</td>\n",
       "      <td>0.006080</td>\n",
       "      <td>NaN</td>\n",
       "      <td>0.004086</td>\n",
       "      <td>-0.064219</td>\n",
       "      <td>0.000995</td>\n",
       "      <td>-0.117959</td>\n",
       "      <td>-0.029707</td>\n",
       "      <td>NaN</td>\n",
       "      <td>0.007886</td>\n",
       "      <td>0.627703</td>\n",
       "      <td>-0.007894</td>\n",
       "      <td>1.000000</td>\n",
       "      <td>0.618409</td>\n",
       "      <td>0.769212</td>\n",
       "      <td>0.134392</td>\n",
       "      <td>-0.134392</td>\n",
       "    </tr>\n",
       "    <tr>\n",
       "      <td>YearsSinceLastPromotion</td>\n",
       "      <td>0.216513</td>\n",
       "      <td>0.002290</td>\n",
       "      <td>0.022490</td>\n",
       "      <td>NaN</td>\n",
       "      <td>0.000256</td>\n",
       "      <td>-0.060811</td>\n",
       "      <td>0.065219</td>\n",
       "      <td>-0.036656</td>\n",
       "      <td>-0.029542</td>\n",
       "      <td>NaN</td>\n",
       "      <td>0.019063</td>\n",
       "      <td>0.404444</td>\n",
       "      <td>0.016121</td>\n",
       "      <td>0.618409</td>\n",
       "      <td>1.000000</td>\n",
       "      <td>0.510224</td>\n",
       "      <td>0.033019</td>\n",
       "      <td>-0.033019</td>\n",
       "    </tr>\n",
       "    <tr>\n",
       "      <td>YearsWithCurrManager</td>\n",
       "      <td>0.202089</td>\n",
       "      <td>0.021584</td>\n",
       "      <td>0.005358</td>\n",
       "      <td>NaN</td>\n",
       "      <td>0.008579</td>\n",
       "      <td>-0.055251</td>\n",
       "      <td>0.024304</td>\n",
       "      <td>-0.109667</td>\n",
       "      <td>-0.040864</td>\n",
       "      <td>NaN</td>\n",
       "      <td>0.017757</td>\n",
       "      <td>0.458800</td>\n",
       "      <td>-0.013270</td>\n",
       "      <td>0.769212</td>\n",
       "      <td>0.510224</td>\n",
       "      <td>1.000000</td>\n",
       "      <td>0.156199</td>\n",
       "      <td>-0.156199</td>\n",
       "    </tr>\n",
       "    <tr>\n",
       "      <td>No</td>\n",
       "      <td>0.159205</td>\n",
       "      <td>0.009730</td>\n",
       "      <td>0.015111</td>\n",
       "      <td>NaN</td>\n",
       "      <td>0.004729</td>\n",
       "      <td>0.010290</td>\n",
       "      <td>0.031176</td>\n",
       "      <td>-0.042345</td>\n",
       "      <td>-0.032533</td>\n",
       "      <td>NaN</td>\n",
       "      <td>0.006839</td>\n",
       "      <td>0.170338</td>\n",
       "      <td>0.049431</td>\n",
       "      <td>0.134392</td>\n",
       "      <td>0.033019</td>\n",
       "      <td>0.156199</td>\n",
       "      <td>1.000000</td>\n",
       "      <td>-1.000000</td>\n",
       "    </tr>\n",
       "    <tr>\n",
       "      <td>Yes</td>\n",
       "      <td>-0.159205</td>\n",
       "      <td>-0.009730</td>\n",
       "      <td>-0.015111</td>\n",
       "      <td>NaN</td>\n",
       "      <td>-0.004729</td>\n",
       "      <td>-0.010290</td>\n",
       "      <td>-0.031176</td>\n",
       "      <td>0.042345</td>\n",
       "      <td>0.032533</td>\n",
       "      <td>NaN</td>\n",
       "      <td>-0.006839</td>\n",
       "      <td>-0.170338</td>\n",
       "      <td>-0.049431</td>\n",
       "      <td>-0.134392</td>\n",
       "      <td>-0.033019</td>\n",
       "      <td>-0.156199</td>\n",
       "      <td>-1.000000</td>\n",
       "      <td>1.000000</td>\n",
       "    </tr>\n",
       "  </tbody>\n",
       "</table>\n",
       "</div>"
      ],
      "text/plain": [
       "                              Age  DistanceFromHome  Education  EmployeeCount  \\\n",
       "Age                      1.000000          0.006963  -0.035706            NaN   \n",
       "DistanceFromHome         0.006963          1.000000  -0.008638            NaN   \n",
       "Education               -0.035706         -0.008638   1.000000            NaN   \n",
       "EmployeeCount                 NaN               NaN        NaN            NaN   \n",
       "EmployeeID               0.008649         -0.001097  -0.009680            NaN   \n",
       "JobLevel                -0.002884         -0.037329   0.045746            NaN   \n",
       "MonthlyIncome           -0.044314         -0.021607   0.006410            NaN   \n",
       "NumCompaniesWorked       0.299243         -0.013843  -0.016250            NaN   \n",
       "PercentSalaryHike       -0.033137          0.038125  -0.040531            NaN   \n",
       "StandardHours                 NaN               NaN        NaN            NaN   \n",
       "StockOptionLevel        -0.031753          0.011169   0.001261            NaN   \n",
       "TotalWorkingYears        0.680661          0.009374  -0.010717            NaN   \n",
       "TrainingTimesLastYear   -0.027308         -0.009001   0.010472            NaN   \n",
       "YearsAtCompany           0.311309          0.031684   0.006080            NaN   \n",
       "YearsSinceLastPromotion  0.216513          0.002290   0.022490            NaN   \n",
       "YearsWithCurrManager     0.202089          0.021584   0.005358            NaN   \n",
       "No                       0.159205          0.009730   0.015111            NaN   \n",
       "Yes                     -0.159205         -0.009730  -0.015111            NaN   \n",
       "\n",
       "                         EmployeeID  JobLevel  MonthlyIncome  \\\n",
       "Age                        0.008649 -0.002884      -0.044314   \n",
       "DistanceFromHome          -0.001097 -0.037329      -0.021607   \n",
       "Education                 -0.009680  0.045746       0.006410   \n",
       "EmployeeCount                   NaN       NaN            NaN   \n",
       "EmployeeID                 1.000000 -0.003303       0.007338   \n",
       "JobLevel                  -0.003303  1.000000       0.047316   \n",
       "MonthlyIncome              0.007338  0.047316       1.000000   \n",
       "NumCompaniesWorked        -0.001117 -0.009875      -0.020726   \n",
       "PercentSalaryHike         -0.004456  0.010973       0.004325   \n",
       "StandardHours                   NaN       NaN            NaN   \n",
       "StockOptionLevel          -0.014254  0.000993       0.026930   \n",
       "TotalWorkingYears         -0.001063 -0.036957      -0.033787   \n",
       "TrainingTimesLastYear     -0.010191 -0.032500       0.050112   \n",
       "YearsAtCompany             0.004086 -0.064219       0.000995   \n",
       "YearsSinceLastPromotion    0.000256 -0.060811       0.065219   \n",
       "YearsWithCurrManager       0.008579 -0.055251       0.024304   \n",
       "No                         0.004729  0.010290       0.031176   \n",
       "Yes                       -0.004729 -0.010290      -0.031176   \n",
       "\n",
       "                         NumCompaniesWorked  PercentSalaryHike  StandardHours  \\\n",
       "Age                                0.299243          -0.033137            NaN   \n",
       "DistanceFromHome                  -0.013843           0.038125            NaN   \n",
       "Education                         -0.016250          -0.040531            NaN   \n",
       "EmployeeCount                           NaN                NaN            NaN   \n",
       "EmployeeID                        -0.001117          -0.004456            NaN   \n",
       "JobLevel                          -0.009875           0.010973            NaN   \n",
       "MonthlyIncome                     -0.020726           0.004325            NaN   \n",
       "NumCompaniesWorked                 1.000000           0.030860            NaN   \n",
       "PercentSalaryHike                  0.030860           1.000000            NaN   \n",
       "StandardHours                           NaN                NaN            NaN   \n",
       "StockOptionLevel                   0.017163           0.012548            NaN   \n",
       "TotalWorkingYears                  0.238807          -0.018736            NaN   \n",
       "TrainingTimesLastYear             -0.032286          -0.037392            NaN   \n",
       "YearsAtCompany                    -0.117959          -0.029707            NaN   \n",
       "YearsSinceLastPromotion           -0.036656          -0.029542            NaN   \n",
       "YearsWithCurrManager              -0.109667          -0.040864            NaN   \n",
       "No                                -0.042345          -0.032533            NaN   \n",
       "Yes                                0.042345           0.032533            NaN   \n",
       "\n",
       "                         StockOptionLevel  TotalWorkingYears  \\\n",
       "Age                             -0.031753           0.680661   \n",
       "DistanceFromHome                 0.011169           0.009374   \n",
       "Education                        0.001261          -0.010717   \n",
       "EmployeeCount                         NaN                NaN   \n",
       "EmployeeID                      -0.014254          -0.001063   \n",
       "JobLevel                         0.000993          -0.036957   \n",
       "MonthlyIncome                    0.026930          -0.033787   \n",
       "NumCompaniesWorked               0.017163           0.238807   \n",
       "PercentSalaryHike                0.012548          -0.018736   \n",
       "StandardHours                         NaN                NaN   \n",
       "StockOptionLevel                 1.000000           0.002694   \n",
       "TotalWorkingYears                0.002694           1.000000   \n",
       "TrainingTimesLastYear           -0.069902          -0.040762   \n",
       "YearsAtCompany                   0.007886           0.627703   \n",
       "YearsSinceLastPromotion          0.019063           0.404444   \n",
       "YearsWithCurrManager             0.017757           0.458800   \n",
       "No                               0.006839           0.170338   \n",
       "Yes                             -0.006839          -0.170338   \n",
       "\n",
       "                         TrainingTimesLastYear  YearsAtCompany  \\\n",
       "Age                                  -0.027308        0.311309   \n",
       "DistanceFromHome                     -0.009001        0.031684   \n",
       "Education                             0.010472        0.006080   \n",
       "EmployeeCount                              NaN             NaN   \n",
       "EmployeeID                           -0.010191        0.004086   \n",
       "JobLevel                             -0.032500       -0.064219   \n",
       "MonthlyIncome                         0.050112        0.000995   \n",
       "NumCompaniesWorked                   -0.032286       -0.117959   \n",
       "PercentSalaryHike                    -0.037392       -0.029707   \n",
       "StandardHours                              NaN             NaN   \n",
       "StockOptionLevel                     -0.069902        0.007886   \n",
       "TotalWorkingYears                    -0.040762        0.627703   \n",
       "TrainingTimesLastYear                 1.000000       -0.007894   \n",
       "YearsAtCompany                       -0.007894        1.000000   \n",
       "YearsSinceLastPromotion               0.016121        0.618409   \n",
       "YearsWithCurrManager                 -0.013270        0.769212   \n",
       "No                                    0.049431        0.134392   \n",
       "Yes                                  -0.049431       -0.134392   \n",
       "\n",
       "                         YearsSinceLastPromotion  YearsWithCurrManager  \\\n",
       "Age                                     0.216513              0.202089   \n",
       "DistanceFromHome                        0.002290              0.021584   \n",
       "Education                               0.022490              0.005358   \n",
       "EmployeeCount                                NaN                   NaN   \n",
       "EmployeeID                              0.000256              0.008579   \n",
       "JobLevel                               -0.060811             -0.055251   \n",
       "MonthlyIncome                           0.065219              0.024304   \n",
       "NumCompaniesWorked                     -0.036656             -0.109667   \n",
       "PercentSalaryHike                      -0.029542             -0.040864   \n",
       "StandardHours                                NaN                   NaN   \n",
       "StockOptionLevel                        0.019063              0.017757   \n",
       "TotalWorkingYears                       0.404444              0.458800   \n",
       "TrainingTimesLastYear                   0.016121             -0.013270   \n",
       "YearsAtCompany                          0.618409              0.769212   \n",
       "YearsSinceLastPromotion                 1.000000              0.510224   \n",
       "YearsWithCurrManager                    0.510224              1.000000   \n",
       "No                                      0.033019              0.156199   \n",
       "Yes                                    -0.033019             -0.156199   \n",
       "\n",
       "                               No       Yes  \n",
       "Age                      0.159205 -0.159205  \n",
       "DistanceFromHome         0.009730 -0.009730  \n",
       "Education                0.015111 -0.015111  \n",
       "EmployeeCount                 NaN       NaN  \n",
       "EmployeeID               0.004729 -0.004729  \n",
       "JobLevel                 0.010290 -0.010290  \n",
       "MonthlyIncome            0.031176 -0.031176  \n",
       "NumCompaniesWorked      -0.042345  0.042345  \n",
       "PercentSalaryHike       -0.032533  0.032533  \n",
       "StandardHours                 NaN       NaN  \n",
       "StockOptionLevel         0.006839 -0.006839  \n",
       "TotalWorkingYears        0.170338 -0.170338  \n",
       "TrainingTimesLastYear    0.049431 -0.049431  \n",
       "YearsAtCompany           0.134392 -0.134392  \n",
       "YearsSinceLastPromotion  0.033019 -0.033019  \n",
       "YearsWithCurrManager     0.156199 -0.156199  \n",
       "No                       1.000000 -1.000000  \n",
       "Yes                     -1.000000  1.000000  "
      ]
     },
     "execution_count": 6,
     "metadata": {},
     "output_type": "execute_result"
    }
   ],
   "source": [
    "df.corr()"
   ]
  },
  {
   "cell_type": "markdown",
   "metadata": {},
   "source": [
    "## Correlation is Attrition is yes and Age is Negative "
   ]
  },
  {
   "cell_type": "code",
   "execution_count": 8,
   "metadata": {},
   "outputs": [
    {
     "name": "stdout",
     "output_type": "stream",
     "text": [
      "-0.15920500686577965 1.996801615886744e-26\n"
     ]
    }
   ],
   "source": [
    "stats,p = pearsonr(df[\"Yes\"],df[\"Age\"])\n",
    "print(stats,p)"
   ]
  },
  {
   "cell_type": "markdown",
   "metadata": {},
   "source": [
    "## Correlation is Attrition is yes and DistanceFromHome is Negative "
   ]
  },
  {
   "cell_type": "code",
   "execution_count": 10,
   "metadata": {},
   "outputs": [
    {
     "name": "stdout",
     "output_type": "stream",
     "text": [
      "-0.009730141010179674 0.5182860428050771\n"
     ]
    }
   ],
   "source": [
    "stats,p = pearsonr(df[\"Yes\"],df[\"DistanceFromHome\"])\n",
    "print(stats,p)"
   ]
  },
  {
   "cell_type": "markdown",
   "metadata": {},
   "source": [
    "## Correlation is Attrition is yes and Education is Negative "
   ]
  },
  {
   "cell_type": "code",
   "execution_count": 11,
   "metadata": {},
   "outputs": [
    {
     "name": "stdout",
     "output_type": "stream",
     "text": [
      "-0.015111167710968713 0.3157293177118575\n"
     ]
    }
   ],
   "source": [
    "stats,p = pearsonr(df[\"Yes\"],df[\"Education\"])\n",
    "print(stats,p)"
   ]
  },
  {
   "cell_type": "markdown",
   "metadata": {},
   "source": [
    "## Correlation is Attrition is yes and EmployeeCount is NOT VALID "
   ]
  },
  {
   "cell_type": "code",
   "execution_count": 28,
   "metadata": {},
   "outputs": [
    {
     "name": "stdout",
     "output_type": "stream",
     "text": [
      "nan nan\n"
     ]
    }
   ],
   "source": [
    "stats,p = pearsonr(df[\"Yes\"],df[\"EmployeeCount\"].fillna(0))\n",
    "print(stats,p)"
   ]
  },
  {
   "cell_type": "markdown",
   "metadata": {},
   "source": [
    "## Correlation is Attrition is yes and EmployeeID is Negative "
   ]
  },
  {
   "cell_type": "code",
   "execution_count": 14,
   "metadata": {},
   "outputs": [
    {
     "name": "stdout",
     "output_type": "stream",
     "text": [
      "-0.004729122995066087 0.7535487401886252\n"
     ]
    }
   ],
   "source": [
    "stats,p = pearsonr(df[\"Yes\"],df[\"EmployeeID\"])\n",
    "print(stats,p)"
   ]
  },
  {
   "cell_type": "markdown",
   "metadata": {},
   "source": [
    "## Correlation is Attrition is yes and JobLevel is Negative "
   ]
  },
  {
   "cell_type": "code",
   "execution_count": 15,
   "metadata": {},
   "outputs": [
    {
     "name": "stdout",
     "output_type": "stream",
     "text": [
      "-0.010289713287495042 0.49451717271828405\n"
     ]
    }
   ],
   "source": [
    "stats,p = pearsonr(df[\"Yes\"],df[\"JobLevel\"])\n",
    "print(stats,p)"
   ]
  },
  {
   "cell_type": "markdown",
   "metadata": {},
   "source": [
    "## Correlation is Attrition is yes and MonthlyIncome is Negative "
   ]
  },
  {
   "cell_type": "code",
   "execution_count": 16,
   "metadata": {},
   "outputs": [
    {
     "name": "stdout",
     "output_type": "stream",
     "text": [
      "-0.031176281698115007 0.03842748490600132\n"
     ]
    }
   ],
   "source": [
    "stats,p = pearsonr(df[\"Yes\"],df[\"MonthlyIncome\"])\n",
    "print(stats,p)"
   ]
  },
  {
   "cell_type": "markdown",
   "metadata": {},
   "source": [
    "## Correlation is Attrition is yes and NumCompaniesWorked is Positive "
   ]
  },
  {
   "cell_type": "code",
   "execution_count": 18,
   "metadata": {},
   "outputs": [
    {
     "name": "stdout",
     "output_type": "stream",
     "text": [
      "0.04150332971190174 0.00584142424757884\n"
     ]
    }
   ],
   "source": [
    "stats,p = pearsonr(df[\"Yes\"],df[\"NumCompaniesWorked\"].fillna(0))\n",
    "print(stats,p)"
   ]
  },
  {
   "cell_type": "markdown",
   "metadata": {},
   "source": [
    "## Correlation is Attrition is yes and PercentSalaryHike is Positive"
   ]
  },
  {
   "cell_type": "code",
   "execution_count": 19,
   "metadata": {},
   "outputs": [
    {
     "name": "stdout",
     "output_type": "stream",
     "text": [
      "0.03253259489105349 0.030743386433355353\n"
     ]
    }
   ],
   "source": [
    "stats,p = pearsonr(df[\"Yes\"],df[\"PercentSalaryHike\"].fillna(0))\n",
    "print(stats,p)"
   ]
  },
  {
   "cell_type": "markdown",
   "metadata": {},
   "source": [
    "## Correlation is Attrition is yes and StockOptionLevel is Negative"
   ]
  },
  {
   "cell_type": "code",
   "execution_count": 21,
   "metadata": {},
   "outputs": [
    {
     "name": "stdout",
     "output_type": "stream",
     "text": [
      "-0.006838852403261513 0.6498072937475723\n"
     ]
    }
   ],
   "source": [
    "stats,p = pearsonr(df[\"Yes\"],df[\"StockOptionLevel\"].fillna(0))\n",
    "print(stats,p)"
   ]
  },
  {
   "cell_type": "markdown",
   "metadata": {},
   "source": [
    "## Correlation is Attrition is yes and TotalWorkingYears is Negative"
   ]
  },
  {
   "cell_type": "code",
   "execution_count": 23,
   "metadata": {},
   "outputs": [
    {
     "name": "stdout",
     "output_type": "stream",
     "text": [
      "-0.17023794049182428 4.959687383334802e-30\n"
     ]
    }
   ],
   "source": [
    "stats,p = pearsonr(df[\"Yes\"],df[\"TotalWorkingYears\"].fillna(0))\n",
    "print(stats,p)"
   ]
  },
  {
   "cell_type": "markdown",
   "metadata": {},
   "source": [
    "## Correlation is Attrition is yes and TrainingTimesLastYear is Negative"
   ]
  },
  {
   "cell_type": "code",
   "execution_count": 24,
   "metadata": {},
   "outputs": [
    {
     "name": "stdout",
     "output_type": "stream",
     "text": [
      "-0.049430576244255 0.0010247061915365072\n"
     ]
    }
   ],
   "source": [
    "stats,p = pearsonr(df[\"Yes\"],df[\"TrainingTimesLastYear\"].fillna(0))\n",
    "print(stats,p)"
   ]
  },
  {
   "cell_type": "markdown",
   "metadata": {},
   "source": [
    "## Correlation is Attrition is yes and YearsAtCompany is Negative"
   ]
  },
  {
   "cell_type": "code",
   "execution_count": 26,
   "metadata": {},
   "outputs": [
    {
     "name": "stdout",
     "output_type": "stream",
     "text": [
      "-0.1343922139899772 3.1638831224877484e-19\n"
     ]
    }
   ],
   "source": [
    "stats,p = pearsonr(df[\"Yes\"],df[\"YearsAtCompany\"].fillna(0))\n",
    "print(stats,p)"
   ]
  },
  {
   "cell_type": "markdown",
   "metadata": {},
   "source": [
    "## Correlation is Attrition is yes and YearsSinceLastPromotion is Negative"
   ]
  },
  {
   "cell_type": "code",
   "execution_count": 27,
   "metadata": {},
   "outputs": [
    {
     "name": "stdout",
     "output_type": "stream",
     "text": [
      "-0.03301877514258434 0.028330336189396753\n"
     ]
    }
   ],
   "source": [
    "stats,p = pearsonr(df[\"Yes\"],df[\"YearsSinceLastPromotion\"].fillna(0))\n",
    "print(stats,p)"
   ]
  },
  {
   "cell_type": "markdown",
   "metadata": {},
   "source": [
    "## Correlation is Attrition is yes and YearsWithCurrManager is Negative"
   ]
  },
  {
   "cell_type": "code",
   "execution_count": 29,
   "metadata": {},
   "outputs": [
    {
     "name": "stdout",
     "output_type": "stream",
     "text": [
      "-0.15619931590162847 1.7339322652896276e-25\n"
     ]
    }
   ],
   "source": [
    "stats,p = pearsonr(df[\"Yes\"],df[\"YearsWithCurrManager\"].fillna(0))\n",
    "print(stats,p)"
   ]
  },
  {
   "cell_type": "code",
   "execution_count": null,
   "metadata": {},
   "outputs": [],
   "source": []
  }
 ],
 "metadata": {
  "kernelspec": {
   "display_name": "Python 3",
   "language": "python",
   "name": "python3"
  },
  "language_info": {
   "codemirror_mode": {
    "name": "ipython",
    "version": 3
   },
   "file_extension": ".py",
   "mimetype": "text/x-python",
   "name": "python",
   "nbconvert_exporter": "python",
   "pygments_lexer": "ipython3",
   "version": "3.7.4"
  }
 },
 "nbformat": 4,
 "nbformat_minor": 2
}
